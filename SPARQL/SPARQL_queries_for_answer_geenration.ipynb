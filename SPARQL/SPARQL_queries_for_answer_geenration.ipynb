{
 "cells": [
  {
   "cell_type": "code",
   "execution_count": 12,
   "id": "4266896c",
   "metadata": {},
   "outputs": [],
   "source": [
    "import pandas as pd\n",
    "import numpy as np\n",
    "from tqdm import tqdm\n",
    "import time\n",
    "import numpy as np"
   ]
  },
  {
   "cell_type": "markdown",
   "id": "0e628e04",
   "metadata": {},
   "source": [
    "### Prediction for all datasets except SQ-WD given known entity and relation"
   ]
  },
  {
   "cell_type": "code",
   "execution_count": 13,
   "id": "82275673",
   "metadata": {},
   "outputs": [],
   "source": [
    "import requests\n",
    "\n",
    "def run_query_object(entity_idx, property_idx):\n",
    "    url = \"https://query.wikidata.org/sparql\"\n",
    "    query = \"\"\"\n",
    "\n",
    "   SELECT ?object  WHERE {\n",
    "\n",
    "   wd:<ENTITY> wdt:<PROPERTY> ?object .} \n",
    "        \"\"\".replace(\n",
    "            \"<ENTITY>\", entity_idx).replace(\n",
    "            \"<PROPERTY>\", property_idx)\n",
    "     \n",
    "    request = requests.get(url, params={\"format\": \"json\", \"query\": query})\n",
    "    data = request.json()\n",
    "    objects = []\n",
    "    for q in range(len(data[\"results\"]['bindings'])):\n",
    "        objects.append(data[\"results\"]['bindings'][q]['object']['value'])                 \n",
    "    return ', '.join(objects)"
   ]
  },
  {
   "cell_type": "code",
   "execution_count": 14,
   "id": "7912c668",
   "metadata": {},
   "outputs": [],
   "source": [
    "data = pd.read_csv('rubq_paper_res_sel_lbl_gen.csv')\n",
    "data['pred_gen_mgenre'] = np.nan"
   ]
  },
  {
   "cell_type": "code",
   "execution_count": 15,
   "id": "aa282b38",
   "metadata": {},
   "outputs": [
    {
     "name": "stderr",
     "output_type": "stream",
     "text": [
      "100%|██████████| 1186/1186 [49:33<00:00,  2.51s/it] \n"
     ]
    }
   ],
   "source": [
    "for k in tqdm(range(len(data))):\n",
    "    if pd.isna(data.loc[k, 'pred_gen_mgenre']):\n",
    "        try:\n",
    "            cur_subjects = data.loc[k, 'pred_on_wdsq_and_rubq_for_rubq_ner_upd'].split(', ')\n",
    "            for w in range(len(cur_subjects)):\n",
    "                time.sleep(1)\n",
    "                cur_subj = data.loc[k, 'pred_on_wdsq_and_rubq_for_rubq_ner_upd'].split(', ')[w]\n",
    "                cur_rel = data.loc[k, 'prop_gen'].split(', ')[0]\n",
    "                obj_pred = run_query_object(cur_subj, cur_rel)\n",
    "                if len(obj_pred) > 0:\n",
    "                    data.loc[k, 'pred_gen_mgenre'] = obj_pred\n",
    "                    break\n",
    "        except:\n",
    "            time.sleep(1)\n",
    "            continue"
   ]
  },
  {
   "cell_type": "code",
   "execution_count": 18,
   "id": "c35cad32",
   "metadata": {},
   "outputs": [
    {
     "name": "stderr",
     "output_type": "stream",
     "text": [
      "100%|██████████| 1186/1186 [00:00<00:00, 7425.13it/s]\n"
     ]
    }
   ],
   "source": [
    "for j in tqdm(range(len(data))):\n",
    "    if pd.notna(data.loc[j, 'pred_gen_mgenre']):\n",
    "        cands = data.loc[j, 'pred_gen_mgenre'].split(', ')\n",
    "        elems = []\n",
    "        for k in range(len(cands)):\n",
    "            if 'entity/' in cands[k]:\n",
    "                elems.append(cands[k].split('entity/')[1])\n",
    "            else:\n",
    "                elems.append(cands[k])\n",
    "        data.loc[j, 'pred_gen_mgenre_lbl'] = ', '.join(elems)"
   ]
  },
  {
   "cell_type": "code",
   "execution_count": 20,
   "id": "5f6afaeb",
   "metadata": {},
   "outputs": [
    {
     "name": "stdout",
     "output_type": "stream",
     "text": [
      "0.47554806070826305\n"
     ]
    }
   ],
   "source": [
    "count = 0\n",
    "for i in range(len(data)):\n",
    "    if data.loc[i, 'answers'] == data.loc[i, 'pred_gen_mgenre_lbl']:\n",
    "        count += 1\n",
    "print(count/len(data))"
   ]
  },
  {
   "cell_type": "code",
   "execution_count": 21,
   "id": "1a95bb03",
   "metadata": {},
   "outputs": [],
   "source": [
    "data.to_csv('rubq_paper_res_sel_lbl_gen.csv, index = False')"
   ]
  },
  {
   "cell_type": "markdown",
   "id": "de6784bd",
   "metadata": {},
   "source": [
    "### SQ-WD"
   ]
  },
  {
   "cell_type": "code",
   "execution_count": 30,
   "id": "b67d0d31",
   "metadata": {},
   "outputs": [],
   "source": [
    "wdsq = pd.read_csv('wdsq_paper_res_sel_lbl_gen.csv')"
   ]
  },
  {
   "cell_type": "code",
   "execution_count": null,
   "id": "a13fdd55",
   "metadata": {},
   "outputs": [],
   "source": [
    "import requests\n",
    "\n",
    "def run_query_object(entity_idx, property_idx):\n",
    "    url = \"https://query.wikidata.org/sparql\"\n",
    "    query = \"\"\"\n",
    "\n",
    "   SELECT ?object  WHERE {\n",
    "\n",
    "   wd:<ENTITY> wdt:<PROPERTY> ?object .} \n",
    "        \"\"\".replace(\n",
    "            \"<ENTITY>\", entity_idx).replace(\n",
    "            \"<PROPERTY>\", property_idx)\n",
    "     \n",
    "    request = requests.get(url, params={\"format\": \"json\", \"query\": query})\n",
    "    data = request.json()\n",
    "    objects = []\n",
    "    for q in range(len(data[\"results\"]['bindings'])):\n",
    "        objects.append(data[\"results\"]['bindings'][q]['object']['value'])                 \n",
    "    return ', '.join(objects)\n",
    "\n",
    "def run_query_subject(entity_idx, property_idx):\n",
    "    url = \"https://query.wikidata.org/sparql\"\n",
    "    query = \"\"\"\n",
    "\n",
    "   SELECT ?object  WHERE {\n",
    "\n",
    "   ?object wdt:<PROPERTY> wd:<ENTITY> .} \n",
    "        \"\"\".replace(\n",
    "            \"<ENTITY>\", entity_idx).replace(\n",
    "            \"<PROPERTY>\", property_idx)\n",
    "     \n",
    "    request = requests.get(url, params={\"format\": \"json\", \"query\": query})\n",
    "    data = request.json()\n",
    "    objects = []\n",
    "    for q in range(len(data[\"results\"]['bindings'])):\n",
    "        objects.append(data[\"results\"]['bindings'][q]['object']['value'])                 \n",
    "    return ', '.join(objects)"
   ]
  },
  {
   "cell_type": "code",
   "execution_count": 35,
   "id": "da7d0a5e",
   "metadata": {},
   "outputs": [],
   "source": [
    "wdsq['pred_obj_gen_mgenre'] = np.nan"
   ]
  },
  {
   "cell_type": "code",
   "execution_count": 36,
   "id": "6ec24013",
   "metadata": {},
   "outputs": [
    {
     "name": "stderr",
     "output_type": "stream",
     "text": [
      "100%|██████████| 2491/2491 [1:21:07<00:00,  1.95s/it]\n"
     ]
    }
   ],
   "source": [
    "for k in tqdm(range(len(wdsq))):\n",
    "    if pd.isna(wdsq.loc[k, 'pred_obj_gen_mgenre']):\n",
    "        try:\n",
    "            cur_subjects = wdsq.loc[k, 'pred_on_wdsq_for_wdsq_ner'].split(', ')\n",
    "            for w in range(len(cur_subjects)):\n",
    "                time.sleep(1)\n",
    "                cur_subj = cur_subjects[w]\n",
    "                cur_rel = wdsq.loc[k, 'prop_gen'].split(', ')[0]\n",
    "                if cur_rel[0] == \"P\":\n",
    "                    obj_pred = run_query_object(cur_subj, cur_rel)\n",
    "                    if len(obj_pred) > 0:\n",
    "                        wdsq.loc[k, 'pred_obj_gen_mgenre'] = obj_pred\n",
    "                        break\n",
    "                else:\n",
    "                    cur_rel = \"P\"+cur_rel[1:]\n",
    "                    subj_pred = run_query_subject(cur_subj, cur_rel)\n",
    "                    if len(subj_pred) > 0:\n",
    "                        wdsq.loc[k, 'pred_obj_gen_mgenre'] = subj_pred\n",
    "                        break                  \n",
    "        except:\n",
    "            time.sleep(1)\n",
    "            continue"
   ]
  },
  {
   "cell_type": "code",
   "execution_count": 39,
   "id": "f729b3a9",
   "metadata": {},
   "outputs": [
    {
     "name": "stderr",
     "output_type": "stream",
     "text": [
      "100%|██████████| 2491/2491 [00:00<00:00, 8455.42it/s]\n"
     ]
    }
   ],
   "source": [
    "for j in tqdm(range(len(wdsq))):\n",
    "    if pd.notna(wdsq.loc[j, 'pred_obj_gen_mgenre']):\n",
    "        cands = wdsq.loc[j, 'pred_obj_gen_mgenre'].split(', ')\n",
    "        elems = []\n",
    "        for k in range(len(cands)):\n",
    "            if 'entity/' in cands[k]:\n",
    "                elems.append(cands[k].split('entity/')[1])\n",
    "            else:\n",
    "                elems.append(cands[k])\n",
    "        wdsq.loc[j, 'pred_obj_gen_mgenre_lbl'] = ', '.join(elems)"
   ]
  },
  {
   "cell_type": "code",
   "execution_count": 41,
   "id": "aca4a859",
   "metadata": {},
   "outputs": [
    {
     "name": "stdout",
     "output_type": "stream",
     "text": [
      "0.5748695303091128\n"
     ]
    }
   ],
   "source": [
    "count = 0\n",
    "for i in range(len(wdsq)):\n",
    "    if pd.notna(wdsq.loc[i, 'pred_obj_gen_mgenre_lbl']):\n",
    "        if wdsq.loc[i, 'object'] == wdsq.loc[i, 'pred_obj_gen_mgenre_lbl'].split(', ')[0]:\n",
    "            count += 1\n",
    "print(count/len(wdsq))"
   ]
  },
  {
   "cell_type": "code",
   "execution_count": 42,
   "id": "a01e7551",
   "metadata": {},
   "outputs": [],
   "source": [
    "wdsq.to_csv('wdsq_paper_res_sel_lbl_gen.csv', index = False)"
   ]
  }
 ],
 "metadata": {
  "kernelspec": {
   "display_name": "Python 3 (ipykernel)",
   "language": "python",
   "name": "python3"
  },
  "language_info": {
   "codemirror_mode": {
    "name": "ipython",
    "version": 3
   },
   "file_extension": ".py",
   "mimetype": "text/x-python",
   "name": "python",
   "nbconvert_exporter": "python",
   "pygments_lexer": "ipython3",
   "version": "3.8.10"
  }
 },
 "nbformat": 4,
 "nbformat_minor": 5
}
