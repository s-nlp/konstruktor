{
 "cells": [
  {
   "cell_type": "code",
   "execution_count": 46,
   "metadata": {},
   "outputs": [],
   "source": [
    "import os\n",
    "os.environ['CUDA_VISIBLE_DEVICES'] = '0'\n",
    "\n",
    "# %%\n",
    "import plyvel\n",
    "import pickle\n",
    "from transformers import (\n",
    "    AutoModelForSeq2SeqLM,\n",
    "    AutoTokenizer,\n",
    "    DataCollatorForSeq2Seq,\n",
    "    EarlyStoppingCallback,\n",
    "    Seq2SeqTrainer,\n",
    "    Seq2SeqTrainingArguments,\n",
    ")\n",
    "import datasets\n",
    "import torch\n",
    "import pandas as pd\n",
    "from tqdm.auto import tqdm\n",
    "from sklearn.model_selection import train_test_split\n",
    "from pywikidata import Entity\n",
    "from pywikidata.utils import get_wd_search_results\n",
    "\n",
    "import editdistance"
   ]
  },
  {
   "cell_type": "code",
   "execution_count": 43,
   "metadata": {},
   "outputs": [],
   "source": [
    "# db = plyvel.DB(\n",
    "#     'aliases_lvldb',\n",
    "#     create_if_missing=False,\n",
    "#     lru_cache_size=1024,\n",
    "#     bloom_filter_bits=256,\n",
    "# )\n",
    "\n",
    "\n",
    "# property_label_to_id = {}\n",
    "# for key, val in tqdm(db):\n",
    "#     key = key.decode()\n",
    "#     if 'P' != key[0]:\n",
    "#         continue\n",
    "    \n",
    "#     property_label_to_id[Entity(key).label] = key\n",
    "    \n",
    "#     val = pickle.loads(val)\n",
    "#     for label in val.get('en', []):\n",
    "#         property_label_to_id[label] = key\n",
    "        \n",
    "        \n",
    "# import json\n",
    "# with open('properties_with_aliases_to_id.json', 'w') as f:\n",
    "#     json.dump(property_label_to_id, f)"
   ]
  },
  {
   "cell_type": "code",
   "execution_count": 62,
   "metadata": {},
   "outputs": [],
   "source": [
    "import json\n",
    "with open('properties_with_aliases_to_id.json', 'r') as f:\n",
    "    property_label_to_id = json.load(f)"
   ]
  },
  {
   "cell_type": "code",
   "execution_count": 3,
   "metadata": {},
   "outputs": [
    {
     "name": "stderr",
     "output_type": "stream",
     "text": [
      "Downloading data files: 100%|██████████| 1/1 [00:00<00:00, 8490.49it/s]\n",
      "Extracting data files: 100%|██████████| 1/1 [00:00<00:00, 311.10it/s]\n",
      "Generating train split: 1186 examples [00:00, 97968.42 examples/s]\n"
     ]
    }
   ],
   "source": [
    "df = pd.read_csv('./train_label_generation.csv')\n",
    "train_df, valid_df = train_test_split(df, test_size=0.2)\n",
    "\n",
    "ds = datasets.DatasetDict({\n",
    "    'train': datasets.Dataset.from_pandas(train_df),\n",
    "    'validation': datasets.Dataset.from_pandas(valid_df),\n",
    "    'test': datasets.Dataset.from_csv('./rubq_paper_res_sel.csv'),\n",
    "})"
   ]
  },
  {
   "cell_type": "code",
   "execution_count": 4,
   "metadata": {},
   "outputs": [],
   "source": [
    "model_path = \"./data/masha_experiment_property_labeling/t5-large-ssm/checkpoint-3000/\"\n",
    "model = AutoModelForSeq2SeqLM.from_pretrained(model_path)\n",
    "tokenizer = AutoTokenizer.from_pretrained(model_path)"
   ]
  },
  {
   "cell_type": "code",
   "execution_count": 7,
   "metadata": {},
   "outputs": [],
   "source": [
    "model = model.cuda()"
   ]
  },
  {
   "cell_type": "code",
   "execution_count": 5,
   "metadata": {},
   "outputs": [
    {
     "name": "stderr",
     "output_type": "stream",
     "text": [
      "Running tokenizer on train dataset (num_proc=8): 100%|██████████| 18178/18178 [00:02<00:00, 6556.20 examples/s] \n",
      "Running tokenizer on train dataset (num_proc=8): 100%|██████████| 4545/4545 [00:00<00:00, 4659.84 examples/s]\n",
      "Running tokenizer on train dataset (num_proc=8): 100%|██████████| 1186/1186 [00:00<00:00, 3497.99 examples/s]\n"
     ]
    }
   ],
   "source": [
    "label_pad_token_id = -100\n",
    "\n",
    "def _preprocess_function(\n",
    "    examples,\n",
    "    ignore_pad_token_for_loss=label_pad_token_id,\n",
    "):\n",
    "    inputs = examples['question']\n",
    "\n",
    "    model_inputs = tokenizer(\n",
    "        inputs,\n",
    "        max_length=512,\n",
    "        padding='max_length',\n",
    "        truncation=True,\n",
    "    )\n",
    "    \n",
    "    if 'relation_label' in examples:\n",
    "        targets = examples['relation_label']\n",
    "        # Tokenize targets with text_target=...\n",
    "        labels = tokenizer(\n",
    "            text_target=targets,\n",
    "            max_length=512, \n",
    "            padding='max_length',\n",
    "            truncation=True,\n",
    "        )\n",
    "        # If we are padding here, replace all tokenizer.pad_token_id\n",
    "        # in the labels by ignore_pad_token when we want to ignore\n",
    "        # padding in the loss.\n",
    "        if ignore_pad_token_for_loss:\n",
    "            labels[\"input_ids\"] = [\n",
    "                [\n",
    "                    (\n",
    "                        lbl\n",
    "                        if lbl != tokenizer.pad_token_id\n",
    "                        else ignore_pad_token_for_loss\n",
    "                    )\n",
    "                    for lbl in label\n",
    "                ]\n",
    "                for label in labels[\"input_ids\"]\n",
    "            ]\n",
    "\n",
    "        model_inputs[\"labels\"] = labels[\"input_ids\"]\n",
    "    return model_inputs\n",
    "\n",
    "ds = ds.map(\n",
    "    _preprocess_function,\n",
    "    batched=True,\n",
    "    num_proc=8,\n",
    "    desc=\"Running tokenizer on train dataset\",\n",
    ")"
   ]
  },
  {
   "cell_type": "code",
   "execution_count": 65,
   "metadata": {},
   "outputs": [],
   "source": [
    "def get_property_by_label(prop_label):\n",
    "    # Try to find exact match by SPARQL request\n",
    "    generated_props = []\n",
    "    try:\n",
    "        for prop in Entity.from_label(prop_label):\n",
    "            if prop.is_property:\n",
    "                generated_props.append(prop.idx)\n",
    "    except ValueError:\n",
    "        pass\n",
    "    if len(generated_props) > 0:\n",
    "        return generated_props[0]\n",
    "    \n",
    "    # If no, looking most similar by edit distance\n",
    "    min_dist = 1e18\n",
    "    current_prop = None\n",
    "    for key, val in property_label_to_id.items():\n",
    "        dist = editdistance.eval(prop_label, key)\n",
    "        if dist < min_dist:\n",
    "            min_dist = dist\n",
    "            current_prop = val\n",
    "        if dist == 0:\n",
    "            return current_prop\n",
    "    return current_prop\n"
   ]
  },
  {
   "cell_type": "code",
   "execution_count": 73,
   "metadata": {},
   "outputs": [
    {
     "name": "stderr",
     "output_type": "stream",
     "text": [
      "100%|██████████| 1186/1186 [01:56<00:00, 10.17it/s]\n"
     ]
    }
   ],
   "source": [
    "results = []\n",
    "results_generated = []\n",
    "for inp in tqdm(ds['test']['input_ids']):\n",
    "    outputs = model.generate(torch.tensor([inp]).cuda(), max_length=512)\n",
    "    generated_text = tokenizer.batch_decode(outputs, skip_special_tokens=True)\n",
    "    results.append(get_property_by_label(generated_text[0]))\n",
    "    results_generated.append(generated_text[0])\n",
    "    \n",
    "test_df = ds['test'].to_pandas()\n",
    "test_df['predicted'] = results\n",
    "test_df['predicted_raw'] = results_generated\n",
    "test_df[['uid', 'predicted_raw', 'predicted']].to_csv('predicted_properties_RuBQ_t5llargessm.csv', index=False)"
   ]
  },
  {
   "cell_type": "markdown",
   "metadata": {},
   "source": [
    "# Mintaka"
   ]
  },
  {
   "cell_type": "code",
   "execution_count": 74,
   "metadata": {},
   "outputs": [
    {
     "name": "stderr",
     "output_type": "stream",
     "text": [
      "  0%|          | 8/4000 [00:02<20:24,  3.26it/s]"
     ]
    },
    {
     "name": "stderr",
     "output_type": "stream",
     "text": [
      "100%|██████████| 4000/4000 [13:34<00:00,  4.91it/s]\n"
     ]
    }
   ],
   "source": [
    "mintaka_test_ds = datasets.load_dataset('AmazonScience/mintaka', name='en', split='test')\n",
    "mintaka_test_ds = mintaka_test_ds.map(\n",
    "    _preprocess_function,\n",
    "    batched=True,\n",
    "    num_proc=8,\n",
    "    desc=\"Running tokenizer on train dataset\",\n",
    ")\n",
    "\n",
    "\n",
    "results = []\n",
    "results_generated = []\n",
    "for inp in tqdm(mintaka_test_ds['input_ids']):\n",
    "    outputs = model.generate(torch.tensor([inp]).cuda(), max_length=512)\n",
    "    generated_text = tokenizer.batch_decode(outputs, skip_special_tokens=True)\n",
    "    results.append(get_property_by_label(generated_text[0]))\n",
    "    results_generated.append(generated_text[0])\n",
    "    \n",
    "test_df = mintaka_test_ds.to_pandas()\n",
    "test_df['predicted'] = results\n",
    "test_df['predicted_raw'] = results_generated\n",
    "test_df[['id', 'predicted_raw', 'predicted']].to_csv('predicted_properties_MintakaFull_t5llargessm.csv', index=False)"
   ]
  },
  {
   "cell_type": "markdown",
   "metadata": {},
   "source": [
    "# SQWD"
   ]
  },
  {
   "cell_type": "code",
   "execution_count": 75,
   "metadata": {},
   "outputs": [
    {
     "name": "stdout",
     "output_type": "stream",
     "text": [
      "--2023-11-20 15:15:30--  https://raw.githubusercontent.com/askplatypus/wikidata-simplequestions/master/annotated_wd_data_test_answerable.txt\n",
      "Resolving raw.githubusercontent.com (raw.githubusercontent.com)... 185.199.109.133, 185.199.110.133, 185.199.111.133, ...\n",
      "Connecting to raw.githubusercontent.com (raw.githubusercontent.com)|185.199.109.133|:443... connected.\n",
      "HTTP request sent, awaiting response... 200 OK\n",
      "Length: 345052 (337K) [text/plain]\n",
      "Saving to: ‘annotated_wd_data_test_answerable.txt’\n",
      "\n",
      "annotated_wd_data_t 100%[===================>] 336.96K  --.-KB/s    in 0.1s    \n",
      "\n",
      "2023-11-20 15:15:31 (2.49 MB/s) - ‘annotated_wd_data_test_answerable.txt’ saved [345052/345052]\n",
      "\n"
     ]
    }
   ],
   "source": [
    "!wget https://raw.githubusercontent.com/askplatypus/wikidata-simplequestions/master/annotated_wd_data_test_answerable.txt"
   ]
  },
  {
   "cell_type": "code",
   "execution_count": 84,
   "metadata": {},
   "outputs": [
    {
     "name": "stderr",
     "output_type": "stream",
     "text": [
      "Running tokenizer on train dataset (num_proc=8): 100%|██████████| 5622/5622 [00:00<00:00, 9231.30 examples/s] \n",
      "100%|██████████| 5622/5622 [11:18<00:00,  8.29it/s]\n"
     ]
    }
   ],
   "source": [
    "sqwd_test_ds = datasets.Dataset.from_pandas(pd.read_csv(\n",
    "    'annotated_wd_data_test_answerable.txt',\n",
    "    sep='\\t',\n",
    "    names=['subject', 'property', 'object', 'question']\n",
    "))\n",
    "sqwd_test_ds = sqwd_test_ds.map(\n",
    "    _preprocess_function,\n",
    "    batched=True,\n",
    "    num_proc=8,\n",
    "    desc=\"Running tokenizer on train dataset\",\n",
    ")\n",
    "\n",
    "results = []\n",
    "results_generated = []\n",
    "for inp in tqdm(sqwd_test_ds['input_ids']):\n",
    "    outputs = model.generate(torch.tensor([inp]).cuda(), max_length=512)\n",
    "    generated_text = tokenizer.batch_decode(outputs, skip_special_tokens=True)\n",
    "    results.append(get_property_by_label(generated_text[0]))\n",
    "    results_generated.append(generated_text[0])\n",
    "    \n",
    "test_df = sqwd_test_ds.to_pandas()\n",
    "test_df['predicted'] = results\n",
    "test_df['predicted_raw'] = results_generated\n",
    "test_df[['question', 'predicted_raw', 'predicted']].to_csv('predicted_properties_annotated_wd_data_test_answerable_t5llargessm.csv', index=False)"
   ]
  },
  {
   "cell_type": "code",
   "execution_count": null,
   "metadata": {},
   "outputs": [],
   "source": []
  }
 ],
 "metadata": {
  "kernelspec": {
   "display_name": "Python 3",
   "language": "python",
   "name": "python3"
  },
  "language_info": {
   "codemirror_mode": {
    "name": "ipython",
    "version": 3
   },
   "file_extension": ".py",
   "mimetype": "text/x-python",
   "name": "python",
   "nbconvert_exporter": "python",
   "pygments_lexer": "ipython3",
   "version": "3.10.12"
  }
 },
 "nbformat": 4,
 "nbformat_minor": 2
}
