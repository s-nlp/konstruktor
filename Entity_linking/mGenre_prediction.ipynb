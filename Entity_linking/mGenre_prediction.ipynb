{
 "cells": [
  {
   "cell_type": "markdown",
   "id": "b66addc6",
   "metadata": {},
   "source": [
    "## mGenre prediction with NER and evaluation"
   ]
  },
  {
   "cell_type": "markdown",
   "id": "2d3594ad",
   "metadata": {},
   "source": [
    "### Data and libraries downloading"
   ]
  },
  {
   "cell_type": "code",
   "execution_count": null,
   "id": "a612d40e",
   "metadata": {},
   "outputs": [],
   "source": [
    "#download weights of mgenre\n",
    "\n",
    "!wget https://dl.fbaipublicfiles.com/GENRE/fairseq_multilingual_entity_disambiguation.tar.gz\n",
    "! tar -xvf workspace/kbqa/kbqa/fairseq_multilingual_entity_disambiguation.tar.gz"
   ]
  },
  {
   "cell_type": "code",
   "execution_count": 2,
   "id": "87a35e67",
   "metadata": {},
   "outputs": [],
   "source": [
    "import pickle\n",
    "from genre.trie import Trie, MarisaTrie\n",
    "import torch\n",
    "from genre.fairseq_model import mGENRE\n",
    "import pandas as pd\n",
    "from tqdm import tqdm"
   ]
  },
  {
   "cell_type": "code",
   "execution_count": null,
   "id": "d7546333",
   "metadata": {},
   "outputs": [],
   "source": [
    "#! wget https://dl.fbaipublicfiles.com/GENRE/lang_title2wikidataID-normalized_with_redirect.pkl\n",
    "\n",
    "# mapping between mentions and Wikidata IDs and number of times they appear on Wikipedia\n",
    "with open(\"workspace/kbqa/kbqa/lang_title2wikidataID-normalized_with_redirect.pkl\", \"rb\") as f:\n",
    "    lang_title2wikidataID = pickle.load(f)"
   ]
  },
  {
   "cell_type": "code",
   "execution_count": null,
   "id": "fe87d942",
   "metadata": {},
   "outputs": [],
   "source": [
    "#! wget http://dl.fbaipublicfiles.com/GENRE/wikidataID2lang_title-normalized_with_redirect.pkl\n",
    "\n",
    "# mapping between wikidataIDs and (lang, title) in all languages\n",
    "with open(\"workspace/kbqa/kbqa/wikidataID2lang_title-normalized_with_redirect.pkl\", \"rb\") as f:\n",
    "    wikidataID2lang_title = pickle.load(f)"
   ]
  },
  {
   "cell_type": "code",
   "execution_count": null,
   "id": "335e2293",
   "metadata": {},
   "outputs": [],
   "source": [
    "#! wget http://dl.fbaipublicfiles.com/GENRE/titles_lang_all105_marisa_trie_with_redirect.pkl\n",
    "\n",
    "# memory efficient but slower prefix tree (trie) -- it is implemented with `marisa_trie`\n",
    "with open(\"workspace/kbqa/kbqa/titles_lang_all105_marisa_trie_with_redirect.pkl\", \"rb\") as f:\n",
    "    trie = pickle.load(f)"
   ]
  },
  {
   "cell_type": "code",
   "execution_count": null,
   "id": "c4d3428e",
   "metadata": {},
   "outputs": [],
   "source": [
    "#! wget http://dl.fbaipublicfiles.com/GENRE/mention2wikidataID_with_titles_label_alias_redirect.pkl\n",
    "\n",
    "# mapping between mentions and Wikidata IDs and number of times they appear on Wikipedia\n",
    "with open(\"workspace/kbqa/kbqa/mention2wikidataID_with_titles_label_alias_redirect.pkl\", \"rb\") as f:\n",
    "    mention2wikidataID = pickle.load(f)"
   ]
  },
  {
   "cell_type": "markdown",
   "id": "48fb4be6",
   "metadata": {},
   "source": [
    "### Predicting mGenre"
   ]
  },
  {
   "cell_type": "code",
   "execution_count": 3,
   "id": "92608bad",
   "metadata": {},
   "outputs": [],
   "source": [
    "data_ner = pd.read_csv('ner_experiments_mgenre.csv')"
   ]
  },
  {
   "cell_type": "code",
   "execution_count": null,
   "id": "5dfc255b",
   "metadata": {},
   "outputs": [],
   "source": [
    "device = torch.device(\"cuda\" if torch.cuda.is_available() else \"cpu\")\n",
    "model_mGENRE = mGENRE.from_pretrained(\"/fairseq_multilingual_entity_disambiguation\").eval()\n",
    "model_mGENRE.to(device)\n",
    "print(\"mGENRE loaded\")"
   ]
  },
  {
   "cell_type": "code",
   "execution_count": null,
   "id": "00bab3ee",
   "metadata": {},
   "outputs": [],
   "source": [
    "#prediction procedure is taken from here https://github.com/facebookresearch/GENRE/tree/main/examples_mgenre\n",
    "\n",
    "def pred(sentences, model):\n",
    "    \n",
    "    prediction = model.sample(\n",
    "        sentences,\n",
    "        prefix_allowed_tokens_fn=lambda batch_id, sent: [\n",
    "            e for e in trie.get(sent.tolist())\n",
    "            if e < len(model.task.target_dictionary)\n",
    "        ],\n",
    "        text_to_id=lambda x: max(lang_title2wikidataID[tuple(reversed(x.split(\" >> \")))], key=lambda y: int(y[1:])),\n",
    "        marginalize=True,\n",
    "    )\n",
    "    return prediction"
   ]
  },
  {
   "cell_type": "code",
   "execution_count": null,
   "id": "cbb0ef43",
   "metadata": {},
   "outputs": [],
   "source": [
    "#example prediction for the whole dataset\n",
    "\n",
    "for k in tqdm(range(len(data_ner))):\n",
    "    \n",
    "    sent = [data_ner.loc[k, 'question_ner_spacy_pretrained_largecase']]\n",
    "    prediction = pred(sent, model_mGENRE)\n",
    "    pred_inds = []\n",
    "    for j in range(len(prediction[0])):\n",
    "        pred_inds.append(prediction[0][j]['id'])\n",
    "    \n",
    "    data_ner.loc[k, 'pred_ner_spacy_pretrained_largecase'] = ', '.join(pred_inds)"
   ]
  },
  {
   "cell_type": "markdown",
   "id": "b89c91e0",
   "metadata": {},
   "source": [
    "### Evaluate accuracy"
   ]
  },
  {
   "cell_type": "code",
   "execution_count": null,
   "id": "9432676b",
   "metadata": {},
   "outputs": [],
   "source": [
    "def topk_accuracy(df, col):\n",
    "    \n",
    "    count_1 = 0\n",
    "    count_2 = 0\n",
    "    count_3 = 0\n",
    "    count_4 = 0\n",
    "    count_5 = 0\n",
    "    for k in range(len(df)):\n",
    "        \n",
    "        if df.loc[k, col].split(', ')[0] == df.loc[k, 'subject']:\n",
    "            count_1 += 1\n",
    "            count_2 += 1\n",
    "            count_3 += 1\n",
    "            count_4 += 1\n",
    "            count_5 += 1\n",
    "            \n",
    "        elif len(df.loc[k, col].split(', ')) >= 2 and df.loc[k, col].split(', ')[1] == df.loc[k, 'subject']:\n",
    "            count_2 += 1\n",
    "            count_3 += 1\n",
    "            count_4 += 1\n",
    "            count_5 += 1\n",
    "            \n",
    "        elif len(df.loc[k, col].split(', ')) >= 3 and df.loc[k, col].split(', ')[2] == df.loc[k, 'subject']:\n",
    "            count_3 += 1\n",
    "            count_4 += 1\n",
    "            count_5 += 1\n",
    "                \n",
    "        elif len(df.loc[k, col].split(', ')) >= 4 and df.loc[k, col].split(', ')[3] == df.loc[k, 'subject']:\n",
    "            count_4 += 1\n",
    "            count_5 += 1\n",
    "                \n",
    "        elif len(df.loc[k, col].split(', ')) >= 5 and df.loc[k, col].split(', ')[4] == df.loc[k, 'subject']:\n",
    "            count_5 += 1\n",
    "                \n",
    "    print('Top-1 accuracy:', count_1/len(df))\n",
    "    print('Top-2 accuracy:', count_2/len(df))\n",
    "    print('Top-3 accuracy:', count_3/len(df))\n",
    "    print('Top-4 accuracy:', count_4/len(df))\n",
    "    print('Top-5 accuracy:', count_5/len(df))\n"
   ]
  },
  {
   "cell_type": "code",
   "execution_count": null,
   "id": "45d92d38",
   "metadata": {},
   "outputs": [],
   "source": [
    "topk_accuracy(df, 'pred_ner_spacy_pretrained_largecase')"
   ]
  }
 ],
 "metadata": {
  "kernelspec": {
   "display_name": "Python 3 (ipykernel)",
   "language": "python",
   "name": "python3"
  },
  "language_info": {
   "codemirror_mode": {
    "name": "ipython",
    "version": 3
   },
   "file_extension": ".py",
   "mimetype": "text/x-python",
   "name": "python",
   "nbconvert_exporter": "python",
   "pygments_lexer": "ipython3",
   "version": "3.8.10"
  }
 },
 "nbformat": 4,
 "nbformat_minor": 5
}
