{
 "cells": [
  {
   "cell_type": "code",
   "execution_count": 1,
   "id": "59319381",
   "metadata": {},
   "outputs": [],
   "source": [
    "import json"
   ]
  },
  {
   "cell_type": "code",
   "execution_count": 1,
   "id": "69113d48",
   "metadata": {},
   "outputs": [],
   "source": [
    "import json\n",
    "import pandas as pd\n",
    "from tqdm import tqdm\n",
    "import requests"
   ]
  },
  {
   "cell_type": "code",
   "execution_count": 2,
   "id": "a32e6c43",
   "metadata": {},
   "outputs": [],
   "source": [
    "f = open('data_all/smart-2022-datasets/RL_relation_linking/wikidata/SMART2022-RL-wikidata-train.json')\n",
    "\n",
    "data_add = json.load(f)"
   ]
  },
  {
   "cell_type": "code",
   "execution_count": 4,
   "id": "9bfd9257",
   "metadata": {},
   "outputs": [
    {
     "data": {
      "text/plain": [
       "24112"
      ]
     },
     "execution_count": 4,
     "metadata": {},
     "output_type": "execute_result"
    }
   ],
   "source": [
    "len(data_add)"
   ]
  },
  {
   "cell_type": "code",
   "execution_count": 4,
   "id": "4a789999",
   "metadata": {},
   "outputs": [],
   "source": [
    "data_all = []"
   ]
  },
  {
   "cell_type": "code",
   "execution_count": 5,
   "id": "60f50a2f",
   "metadata": {},
   "outputs": [],
   "source": [
    "#SMART2022-RL-wikidata-train\n",
    "for i in range(len(data_add)):\n",
    "    text = data_add[i]['question']\n",
    "    labels = data_add[i]['relation_labels']\n",
    "    if len(labels) == len(set(labels)):\n",
    "        cur_dict = {}\n",
    "        cur_dict['labels'] = labels\n",
    "        cur_dict['text'] = text\n",
    "        data_all.append(cur_dict)"
   ]
  },
  {
   "cell_type": "code",
   "execution_count": 3,
   "id": "a93a8801",
   "metadata": {},
   "outputs": [],
   "source": [
    "f = open('data_all/smart-2022-datasets/RL_relation_linking/wikidata/SMART2022-RL-wikidata-relation-vocabulary.json')\n",
    "rels = json.load(f)"
   ]
  },
  {
   "cell_type": "code",
   "execution_count": 8,
   "id": "54f3bd64",
   "metadata": {},
   "outputs": [
    {
     "data": {
      "text/plain": [
       "'place of birth'"
      ]
     },
     "execution_count": 8,
     "metadata": {},
     "output_type": "execute_result"
    }
   ],
   "source": [
    "rels['P19']['label']"
   ]
  },
  {
   "cell_type": "markdown",
   "id": "8975c79d",
   "metadata": {},
   "source": [
    "### Training file creation"
   ]
  },
  {
   "cell_type": "markdown",
   "id": "6e413b20",
   "metadata": {},
   "source": [
    "### WDSQ train"
   ]
  },
  {
   "cell_type": "code",
   "execution_count": 35,
   "id": "1f5f0eca",
   "metadata": {},
   "outputs": [],
   "source": [
    "wdsq_train = pd.read_csv('data_all/train_ner_auto_wdsq.csv')"
   ]
  },
  {
   "cell_type": "code",
   "execution_count": 36,
   "id": "ceb52ec3",
   "metadata": {},
   "outputs": [
    {
     "name": "stderr",
     "output_type": "stream",
     "text": [
      "100%|██████████| 19481/19481 [00:01<00:00, 13541.67it/s]\n"
     ]
    }
   ],
   "source": [
    "for i in tqdm(range(len(wdsq_train))):\n",
    "    prop = wdsq_train.loc[i, 'property'] \n",
    "    if prop[0] == 'R':\n",
    "        prop_upd = 'P'+prop[1:]\n",
    "        wdsq_train.loc[i, 'prop_label'] = rels[prop_upd]['label'] + ' reversed'\n",
    "    else:\n",
    "        wdsq_train.loc[i, 'prop_label'] = rels[prop]['label'] "
   ]
  },
  {
   "cell_type": "code",
   "execution_count": 5,
   "id": "82d9c83f",
   "metadata": {},
   "outputs": [
    {
     "data": {
      "text/html": [
       "<div>\n",
       "<style scoped>\n",
       "    .dataframe tbody tr th:only-of-type {\n",
       "        vertical-align: middle;\n",
       "    }\n",
       "\n",
       "    .dataframe tbody tr th {\n",
       "        vertical-align: top;\n",
       "    }\n",
       "\n",
       "    .dataframe thead th {\n",
       "        text-align: right;\n",
       "    }\n",
       "</style>\n",
       "<table border=\"1\" class=\"dataframe\">\n",
       "  <thead>\n",
       "    <tr style=\"text-align: right;\">\n",
       "      <th></th>\n",
       "      <th>subject</th>\n",
       "      <th>property</th>\n",
       "      <th>object</th>\n",
       "      <th>question</th>\n",
       "      <th>subject_text</th>\n",
       "      <th>flag</th>\n",
       "      <th>subject_text_add</th>\n",
       "      <th>subject_text_all</th>\n",
       "      <th>question_ner_auto</th>\n",
       "      <th>ner_auto</th>\n",
       "    </tr>\n",
       "  </thead>\n",
       "  <tbody>\n",
       "    <tr>\n",
       "      <th>0</th>\n",
       "      <td>Q12439</td>\n",
       "      <td>R19</td>\n",
       "      <td>Q6106580</td>\n",
       "      <td>who is a musician born in detroit</td>\n",
       "      <td>Detroit, 2014 Southeastern Michigan flood, Cit...</td>\n",
       "      <td>0.0</td>\n",
       "      <td>NaN</td>\n",
       "      <td>Detroit, 2014 Southeastern Michigan flood, Cit...</td>\n",
       "      <td>who is a musician born in [START] detroit [END]</td>\n",
       "      <td>detroit</td>\n",
       "    </tr>\n",
       "  </tbody>\n",
       "</table>\n",
       "</div>"
      ],
      "text/plain": [
       "  subject property    object                           question  \\\n",
       "0  Q12439      R19  Q6106580  who is a musician born in detroit   \n",
       "\n",
       "                                        subject_text  flag subject_text_add  \\\n",
       "0  Detroit, 2014 Southeastern Michigan flood, Cit...   0.0              NaN   \n",
       "\n",
       "                                    subject_text_all  \\\n",
       "0  Detroit, 2014 Southeastern Michigan flood, Cit...   \n",
       "\n",
       "                                 question_ner_auto ner_auto  \n",
       "0  who is a musician born in [START] detroit [END]  detroit  "
      ]
     },
     "execution_count": 5,
     "metadata": {},
     "output_type": "execute_result"
    }
   ],
   "source": [
    "wdsq_train.head(n=1)"
   ]
  },
  {
   "cell_type": "code",
   "execution_count": 37,
   "id": "b7703145",
   "metadata": {},
   "outputs": [
    {
     "name": "stderr",
     "output_type": "stream",
     "text": [
      "100%|██████████| 19481/19481 [00:00<00:00, 35876.86it/s]\n"
     ]
    }
   ],
   "source": [
    "for i in tqdm(range(len(wdsq_train))):\n",
    "    text = wdsq_train.loc[i,'question']\n",
    "    labels = wdsq_train.loc[i,'prop_label']\n",
    "    cur_dict = {}\n",
    "    cur_dict['labels'] = [labels]\n",
    "    cur_dict['text'] = text\n",
    "    data_all.append(cur_dict)"
   ]
  },
  {
   "cell_type": "code",
   "execution_count": 13,
   "id": "b32eac01",
   "metadata": {},
   "outputs": [
    {
     "data": {
      "text/plain": [
       "{'labels': ['sex or gender'], 'text': 'What gender is gastón filgueira'}"
      ]
     },
     "execution_count": 13,
     "metadata": {},
     "output_type": "execute_result"
    }
   ],
   "source": [
    "data_all[-1]"
   ]
  },
  {
   "cell_type": "markdown",
   "id": "6e73567f",
   "metadata": {},
   "source": [
    "### WDSQ validation"
   ]
  },
  {
   "cell_type": "code",
   "execution_count": 38,
   "id": "ecf77181",
   "metadata": {},
   "outputs": [],
   "source": [
    "wdsq_val = pd.read_csv('data_all/val_ner_auto_wdsq.csv')"
   ]
  },
  {
   "cell_type": "code",
   "execution_count": 39,
   "id": "47e41284",
   "metadata": {},
   "outputs": [
    {
     "name": "stderr",
     "output_type": "stream",
     "text": [
      "100%|██████████| 2821/2821 [00:00<00:00, 9260.72it/s]\n"
     ]
    }
   ],
   "source": [
    "for i in tqdm(range(len(wdsq_val))):\n",
    "    prop = wdsq_val.loc[i, 'property'] \n",
    "    if prop[0] == 'R':\n",
    "        prop_upd = 'P'+prop[1:]\n",
    "        wdsq_val.loc[i, 'prop_label'] = rels[prop_upd]['label'] + ' reversed'\n",
    "    else:\n",
    "        wdsq_val.loc[i, 'prop_label'] = rels[prop]['label']  "
   ]
  },
  {
   "cell_type": "code",
   "execution_count": 40,
   "id": "3016e6e6",
   "metadata": {},
   "outputs": [
    {
     "name": "stderr",
     "output_type": "stream",
     "text": [
      "100%|██████████| 2821/2821 [00:00<00:00, 27096.15it/s]\n"
     ]
    }
   ],
   "source": [
    "for i in tqdm(range(len(wdsq_val))):\n",
    "    text = wdsq_val.loc[i,'question']\n",
    "    labels = wdsq_val.loc[i,'prop_label']\n",
    "    cur_dict = {}\n",
    "    cur_dict['labels'] = [labels]\n",
    "    cur_dict['text'] = text\n",
    "    data_all.append(cur_dict)"
   ]
  },
  {
   "cell_type": "code",
   "execution_count": 22,
   "id": "3b26a372",
   "metadata": {},
   "outputs": [
    {
     "data": {
      "text/plain": [
       "{'labels': ['place of birth reversed'],\n",
       " 'text': 'who is a person that was born in sao paulo'}"
      ]
     },
     "execution_count": 22,
     "metadata": {},
     "output_type": "execute_result"
    }
   ],
   "source": [
    "data_all[-1]"
   ]
  },
  {
   "cell_type": "markdown",
   "id": "64b1228b",
   "metadata": {},
   "source": [
    "### RuBQ validation"
   ]
  },
  {
   "cell_type": "code",
   "execution_count": 41,
   "id": "f48b1d01",
   "metadata": {},
   "outputs": [],
   "source": [
    "rubq_dev = pd.read_csv('data_all/rubq_dev.csv')"
   ]
  },
  {
   "cell_type": "code",
   "execution_count": 42,
   "id": "f6bd0b05",
   "metadata": {},
   "outputs": [],
   "source": [
    "rubq_dev = rubq_dev.query('tag == \"1-hop\"').reset_index(drop=True)"
   ]
  },
  {
   "cell_type": "code",
   "execution_count": 43,
   "id": "1d81f171",
   "metadata": {},
   "outputs": [
    {
     "name": "stderr",
     "output_type": "stream",
     "text": [
      "100%|██████████| 373/373 [00:00<00:00, 4460.58it/s]\n"
     ]
    }
   ],
   "source": [
    "for i in tqdm(range(len(rubq_dev))):\n",
    "    props_labs = []\n",
    "    if pd.notna(rubq_dev.loc[i, 'props']):\n",
    "        props = rubq_dev.loc[i, 'props'].split(', ')\n",
    "        for elem in props:\n",
    "            props_labs.append(elem.split(':')[-1])\n",
    "    rubq_dev.loc[i, 'props_labs'] = ', '.join(props_labs)"
   ]
  },
  {
   "cell_type": "code",
   "execution_count": 44,
   "id": "5fcef253",
   "metadata": {},
   "outputs": [
    {
     "name": "stderr",
     "output_type": "stream",
     "text": [
      "100%|██████████| 373/373 [00:00<00:00, 4761.73it/s]\n"
     ]
    }
   ],
   "source": [
    "for i in tqdm(range(len(rubq_dev))):\n",
    "    if pd.notna(rubq_dev.loc[i, 'props']):\n",
    "        props = rubq_dev.loc[i, 'props_labs'].split(', ')\n",
    "        props_labls = []\n",
    "        for elem in props:\n",
    "            if elem == 'altLabel':\n",
    "                props_labls.append('altLabel')\n",
    "            elif elem == 'label':\n",
    "                props_labls.append('label')\n",
    "            else:\n",
    "                props_labls.append(rels[elem]['label'])\n",
    "        rubq_dev.loc[i, 'prop_label'] = ', '.join(props_labls) "
   ]
  },
  {
   "cell_type": "code",
   "execution_count": 45,
   "id": "56682e2f",
   "metadata": {},
   "outputs": [
    {
     "name": "stderr",
     "output_type": "stream",
     "text": [
      "100%|██████████| 373/373 [00:00<00:00, 19458.89it/s]\n"
     ]
    }
   ],
   "source": [
    "for i in tqdm(range(len(rubq_dev))):\n",
    "    text = rubq_dev.loc[i,'question']\n",
    "    labels = rubq_dev.loc[i,'prop_label']\n",
    "    cur_dict = {}\n",
    "    cur_dict['labels'] = [labels]\n",
    "    cur_dict['text'] = text\n",
    "    data_all.append(cur_dict)"
   ]
  },
  {
   "cell_type": "code",
   "execution_count": 94,
   "id": "016fb02d",
   "metadata": {},
   "outputs": [],
   "source": [
    "# rubq_test = pd.read_csv('data_all/rubq_test.csv')"
   ]
  },
  {
   "cell_type": "code",
   "execution_count": 4,
   "id": "e7985270",
   "metadata": {},
   "outputs": [],
   "source": [
    "mintaka_labeled = pd.read_csv('data_all_FALL/mintaka_test_dates.csv')"
   ]
  },
  {
   "cell_type": "code",
   "execution_count": 5,
   "id": "78581fc0",
   "metadata": {},
   "outputs": [
    {
     "data": {
      "text/html": [
       "<div>\n",
       "<style scoped>\n",
       "    .dataframe tbody tr th:only-of-type {\n",
       "        vertical-align: middle;\n",
       "    }\n",
       "\n",
       "    .dataframe tbody tr th {\n",
       "        vertical-align: top;\n",
       "    }\n",
       "\n",
       "    .dataframe thead th {\n",
       "        text-align: right;\n",
       "    }\n",
       "</style>\n",
       "<table border=\"1\" class=\"dataframe\">\n",
       "  <thead>\n",
       "    <tr style=\"text-align: right;\">\n",
       "      <th></th>\n",
       "      <th>Unnamed: 0</th>\n",
       "      <th>id</th>\n",
       "      <th>question</th>\n",
       "      <th>entities</th>\n",
       "      <th>category</th>\n",
       "      <th>complexityType</th>\n",
       "      <th>answerType</th>\n",
       "      <th>answerLabel</th>\n",
       "      <th>filt</th>\n",
       "      <th>one_hop_rels</th>\n",
       "      <th>subjects</th>\n",
       "      <th>possible_rel</th>\n",
       "      <th>ans</th>\n",
       "      <th>amount</th>\n",
       "    </tr>\n",
       "  </thead>\n",
       "  <tbody>\n",
       "    <tr>\n",
       "      <th>0</th>\n",
       "      <td>0</td>\n",
       "      <td>3672da64</td>\n",
       "      <td>In what year did Kaley Cuoco play Cassie Bowde...</td>\n",
       "      <td>[{'name': 'Q55635222', 'entityType': 'entity',...</td>\n",
       "      <td>movies</td>\n",
       "      <td>generic</td>\n",
       "      <td>date</td>\n",
       "      <td>2020</td>\n",
       "      <td>1.0</td>\n",
       "      <td>NaN</td>\n",
       "      <td>Q55635222, Q16759</td>\n",
       "      <td>P582</td>\n",
       "      <td>2022-05-26T00:00:00Z</td>\n",
       "      <td>1.0</td>\n",
       "    </tr>\n",
       "  </tbody>\n",
       "</table>\n",
       "</div>"
      ],
      "text/plain": [
       "   Unnamed: 0        id                                           question  \\\n",
       "0           0  3672da64  In what year did Kaley Cuoco play Cassie Bowde...   \n",
       "\n",
       "                                            entities category complexityType  \\\n",
       "0  [{'name': 'Q55635222', 'entityType': 'entity',...   movies        generic   \n",
       "\n",
       "  answerType answerLabel  filt  one_hop_rels           subjects possible_rel  \\\n",
       "0       date        2020   1.0           NaN  Q55635222, Q16759         P582   \n",
       "\n",
       "                    ans  amount  \n",
       "0  2022-05-26T00:00:00Z     1.0  "
      ]
     },
     "execution_count": 5,
     "metadata": {},
     "output_type": "execute_result"
    }
   ],
   "source": [
    "mintaka_labeled.head(n=1)"
   ]
  },
  {
   "cell_type": "code",
   "execution_count": 6,
   "id": "3740cef7",
   "metadata": {},
   "outputs": [],
   "source": [
    "import requests"
   ]
  },
  {
   "cell_type": "code",
   "execution_count": 7,
   "id": "98fd3e8f",
   "metadata": {},
   "outputs": [
    {
     "name": "stderr",
     "output_type": "stream",
     "text": [
      "  0%|          | 0/57 [00:00<?, ?it/s]\n"
     ]
    },
    {
     "ename": "KeyError",
     "evalue": "'prop'",
     "output_type": "error",
     "traceback": [
      "\u001b[0;31m---------------------------------------------------------------------------\u001b[0m",
      "\u001b[0;31mKeyError\u001b[0m                                  Traceback (most recent call last)",
      "File \u001b[0;32m/usr/local/lib/python3.8/dist-packages/pandas/core/indexes/base.py:3621\u001b[0m, in \u001b[0;36mIndex.get_loc\u001b[0;34m(self, key, method, tolerance)\u001b[0m\n\u001b[1;32m   3620\u001b[0m \u001b[38;5;28;01mtry\u001b[39;00m:\n\u001b[0;32m-> 3621\u001b[0m     \u001b[38;5;28;01mreturn\u001b[39;00m \u001b[38;5;28;43mself\u001b[39;49m\u001b[38;5;241;43m.\u001b[39;49m\u001b[43m_engine\u001b[49m\u001b[38;5;241;43m.\u001b[39;49m\u001b[43mget_loc\u001b[49m\u001b[43m(\u001b[49m\u001b[43mcasted_key\u001b[49m\u001b[43m)\u001b[49m\n\u001b[1;32m   3622\u001b[0m \u001b[38;5;28;01mexcept\u001b[39;00m \u001b[38;5;167;01mKeyError\u001b[39;00m \u001b[38;5;28;01mas\u001b[39;00m err:\n",
      "File \u001b[0;32m/usr/local/lib/python3.8/dist-packages/pandas/_libs/index.pyx:136\u001b[0m, in \u001b[0;36mpandas._libs.index.IndexEngine.get_loc\u001b[0;34m()\u001b[0m\n",
      "File \u001b[0;32m/usr/local/lib/python3.8/dist-packages/pandas/_libs/index.pyx:163\u001b[0m, in \u001b[0;36mpandas._libs.index.IndexEngine.get_loc\u001b[0;34m()\u001b[0m\n",
      "File \u001b[0;32mpandas/_libs/hashtable_class_helper.pxi:5198\u001b[0m, in \u001b[0;36mpandas._libs.hashtable.PyObjectHashTable.get_item\u001b[0;34m()\u001b[0m\n",
      "File \u001b[0;32mpandas/_libs/hashtable_class_helper.pxi:5206\u001b[0m, in \u001b[0;36mpandas._libs.hashtable.PyObjectHashTable.get_item\u001b[0;34m()\u001b[0m\n",
      "\u001b[0;31mKeyError\u001b[0m: 'prop'",
      "\nThe above exception was the direct cause of the following exception:\n",
      "\u001b[0;31mKeyError\u001b[0m                                  Traceback (most recent call last)",
      "Input \u001b[0;32mIn [7]\u001b[0m, in \u001b[0;36m<cell line: 1>\u001b[0;34m()\u001b[0m\n\u001b[1;32m      1\u001b[0m \u001b[38;5;28;01mfor\u001b[39;00m i \u001b[38;5;129;01min\u001b[39;00m tqdm(\u001b[38;5;28mrange\u001b[39m(\u001b[38;5;28mlen\u001b[39m(mintaka_labeled))):\n\u001b[0;32m----> 2\u001b[0m     prop \u001b[38;5;241m=\u001b[39m \u001b[43mmintaka_labeled\u001b[49m\u001b[38;5;241;43m.\u001b[39;49m\u001b[43mloc\u001b[49m\u001b[43m[\u001b[49m\u001b[43mi\u001b[49m\u001b[43m,\u001b[49m\u001b[43m \u001b[49m\u001b[38;5;124;43m'\u001b[39;49m\u001b[38;5;124;43mprop\u001b[39;49m\u001b[38;5;124;43m'\u001b[39;49m\u001b[43m]\u001b[49m \n\u001b[1;32m      3\u001b[0m     \u001b[38;5;28;01mtry\u001b[39;00m:\n\u001b[1;32m      4\u001b[0m         mintaka_labeled\u001b[38;5;241m.\u001b[39mloc[i, \u001b[38;5;124m'\u001b[39m\u001b[38;5;124mprop_label\u001b[39m\u001b[38;5;124m'\u001b[39m] \u001b[38;5;241m=\u001b[39m rels[prop][\u001b[38;5;124m'\u001b[39m\u001b[38;5;124mlabel\u001b[39m\u001b[38;5;124m'\u001b[39m]\n",
      "File \u001b[0;32m/usr/local/lib/python3.8/dist-packages/pandas/core/indexing.py:960\u001b[0m, in \u001b[0;36m_LocationIndexer.__getitem__\u001b[0;34m(self, key)\u001b[0m\n\u001b[1;32m    958\u001b[0m     key \u001b[38;5;241m=\u001b[39m \u001b[38;5;28mtuple\u001b[39m(com\u001b[38;5;241m.\u001b[39mapply_if_callable(x, \u001b[38;5;28mself\u001b[39m\u001b[38;5;241m.\u001b[39mobj) \u001b[38;5;28;01mfor\u001b[39;00m x \u001b[38;5;129;01min\u001b[39;00m key)\n\u001b[1;32m    959\u001b[0m     \u001b[38;5;28;01mif\u001b[39;00m \u001b[38;5;28mself\u001b[39m\u001b[38;5;241m.\u001b[39m_is_scalar_access(key):\n\u001b[0;32m--> 960\u001b[0m         \u001b[38;5;28;01mreturn\u001b[39;00m \u001b[38;5;28;43mself\u001b[39;49m\u001b[38;5;241;43m.\u001b[39;49m\u001b[43mobj\u001b[49m\u001b[38;5;241;43m.\u001b[39;49m\u001b[43m_get_value\u001b[49m\u001b[43m(\u001b[49m\u001b[38;5;241;43m*\u001b[39;49m\u001b[43mkey\u001b[49m\u001b[43m,\u001b[49m\u001b[43m \u001b[49m\u001b[43mtakeable\u001b[49m\u001b[38;5;241;43m=\u001b[39;49m\u001b[38;5;28;43mself\u001b[39;49m\u001b[38;5;241;43m.\u001b[39;49m\u001b[43m_takeable\u001b[49m\u001b[43m)\u001b[49m\n\u001b[1;32m    961\u001b[0m     \u001b[38;5;28;01mreturn\u001b[39;00m \u001b[38;5;28mself\u001b[39m\u001b[38;5;241m.\u001b[39m_getitem_tuple(key)\n\u001b[1;32m    962\u001b[0m \u001b[38;5;28;01melse\u001b[39;00m:\n\u001b[1;32m    963\u001b[0m     \u001b[38;5;66;03m# we by definition only have the 0th axis\u001b[39;00m\n",
      "File \u001b[0;32m/usr/local/lib/python3.8/dist-packages/pandas/core/frame.py:3615\u001b[0m, in \u001b[0;36mDataFrame._get_value\u001b[0;34m(self, index, col, takeable)\u001b[0m\n\u001b[1;32m   3612\u001b[0m     series \u001b[38;5;241m=\u001b[39m \u001b[38;5;28mself\u001b[39m\u001b[38;5;241m.\u001b[39m_ixs(col, axis\u001b[38;5;241m=\u001b[39m\u001b[38;5;241m1\u001b[39m)\n\u001b[1;32m   3613\u001b[0m     \u001b[38;5;28;01mreturn\u001b[39;00m series\u001b[38;5;241m.\u001b[39m_values[index]\n\u001b[0;32m-> 3615\u001b[0m series \u001b[38;5;241m=\u001b[39m \u001b[38;5;28;43mself\u001b[39;49m\u001b[38;5;241;43m.\u001b[39;49m\u001b[43m_get_item_cache\u001b[49m\u001b[43m(\u001b[49m\u001b[43mcol\u001b[49m\u001b[43m)\u001b[49m\n\u001b[1;32m   3616\u001b[0m engine \u001b[38;5;241m=\u001b[39m \u001b[38;5;28mself\u001b[39m\u001b[38;5;241m.\u001b[39mindex\u001b[38;5;241m.\u001b[39m_engine\n\u001b[1;32m   3618\u001b[0m \u001b[38;5;28;01mif\u001b[39;00m \u001b[38;5;129;01mnot\u001b[39;00m \u001b[38;5;28misinstance\u001b[39m(\u001b[38;5;28mself\u001b[39m\u001b[38;5;241m.\u001b[39mindex, MultiIndex):\n\u001b[1;32m   3619\u001b[0m     \u001b[38;5;66;03m# CategoricalIndex: Trying to use the engine fastpath may give incorrect\u001b[39;00m\n\u001b[1;32m   3620\u001b[0m     \u001b[38;5;66;03m#  results if our categories are integers that dont match our codes\u001b[39;00m\n\u001b[1;32m   3621\u001b[0m     \u001b[38;5;66;03m# IntervalIndex: IntervalTree has no get_loc\u001b[39;00m\n",
      "File \u001b[0;32m/usr/local/lib/python3.8/dist-packages/pandas/core/frame.py:3931\u001b[0m, in \u001b[0;36mDataFrame._get_item_cache\u001b[0;34m(self, item)\u001b[0m\n\u001b[1;32m   3926\u001b[0m res \u001b[38;5;241m=\u001b[39m cache\u001b[38;5;241m.\u001b[39mget(item)\n\u001b[1;32m   3927\u001b[0m \u001b[38;5;28;01mif\u001b[39;00m res \u001b[38;5;129;01mis\u001b[39;00m \u001b[38;5;28;01mNone\u001b[39;00m:\n\u001b[1;32m   3928\u001b[0m     \u001b[38;5;66;03m# All places that call _get_item_cache have unique columns,\u001b[39;00m\n\u001b[1;32m   3929\u001b[0m     \u001b[38;5;66;03m#  pending resolution of GH#33047\u001b[39;00m\n\u001b[0;32m-> 3931\u001b[0m     loc \u001b[38;5;241m=\u001b[39m \u001b[38;5;28;43mself\u001b[39;49m\u001b[38;5;241;43m.\u001b[39;49m\u001b[43mcolumns\u001b[49m\u001b[38;5;241;43m.\u001b[39;49m\u001b[43mget_loc\u001b[49m\u001b[43m(\u001b[49m\u001b[43mitem\u001b[49m\u001b[43m)\u001b[49m\n\u001b[1;32m   3932\u001b[0m     res \u001b[38;5;241m=\u001b[39m \u001b[38;5;28mself\u001b[39m\u001b[38;5;241m.\u001b[39m_ixs(loc, axis\u001b[38;5;241m=\u001b[39m\u001b[38;5;241m1\u001b[39m)\n\u001b[1;32m   3934\u001b[0m     cache[item] \u001b[38;5;241m=\u001b[39m res\n",
      "File \u001b[0;32m/usr/local/lib/python3.8/dist-packages/pandas/core/indexes/base.py:3623\u001b[0m, in \u001b[0;36mIndex.get_loc\u001b[0;34m(self, key, method, tolerance)\u001b[0m\n\u001b[1;32m   3621\u001b[0m     \u001b[38;5;28;01mreturn\u001b[39;00m \u001b[38;5;28mself\u001b[39m\u001b[38;5;241m.\u001b[39m_engine\u001b[38;5;241m.\u001b[39mget_loc(casted_key)\n\u001b[1;32m   3622\u001b[0m \u001b[38;5;28;01mexcept\u001b[39;00m \u001b[38;5;167;01mKeyError\u001b[39;00m \u001b[38;5;28;01mas\u001b[39;00m err:\n\u001b[0;32m-> 3623\u001b[0m     \u001b[38;5;28;01mraise\u001b[39;00m \u001b[38;5;167;01mKeyError\u001b[39;00m(key) \u001b[38;5;28;01mfrom\u001b[39;00m \u001b[38;5;21;01merr\u001b[39;00m\n\u001b[1;32m   3624\u001b[0m \u001b[38;5;28;01mexcept\u001b[39;00m \u001b[38;5;167;01mTypeError\u001b[39;00m:\n\u001b[1;32m   3625\u001b[0m     \u001b[38;5;66;03m# If we have a listlike key, _check_indexing_error will raise\u001b[39;00m\n\u001b[1;32m   3626\u001b[0m     \u001b[38;5;66;03m#  InvalidIndexError. Otherwise we fall through and re-raise\u001b[39;00m\n\u001b[1;32m   3627\u001b[0m     \u001b[38;5;66;03m#  the TypeError.\u001b[39;00m\n\u001b[1;32m   3628\u001b[0m     \u001b[38;5;28mself\u001b[39m\u001b[38;5;241m.\u001b[39m_check_indexing_error(key)\n",
      "\u001b[0;31mKeyError\u001b[0m: 'prop'"
     ]
    }
   ],
   "source": [
    "for i in tqdm(range(len(mintaka_labeled))):\n",
    "    prop = mintaka_labeled.loc[i, 'prop'] \n",
    "    try:\n",
    "        mintaka_labeled.loc[i, 'prop_label'] = rels[prop]['label']\n",
    "    except:\n",
    "        entity_id = prop\n",
    "        r = requests.get(\"https://www.wikidata.org/w/api.php?action=wbgetentities&props=labels&ids={}&languages=en&formatversion=2&format=json\".format(entity_id))\n",
    "        ans = r.json()['entities'][entity_id]['labels']['en']['value']\n",
    "        mintaka_labeled.loc[i, 'prop_label'] = ans"
   ]
  },
  {
   "cell_type": "code",
   "execution_count": 49,
   "id": "54773656",
   "metadata": {},
   "outputs": [
    {
     "name": "stderr",
     "output_type": "stream",
     "text": [
      "100%|██████████| 380/380 [00:00<00:00, 18662.52it/s]\n"
     ]
    }
   ],
   "source": [
    "for i in tqdm(range(len(mintaka_labeled))):\n",
    "    text = mintaka_labeled.loc[i,'question']\n",
    "    labels = mintaka_labeled.loc[i,'prop_label']\n",
    "    cur_dict = {}\n",
    "    cur_dict['labels'] = [labels]\n",
    "    cur_dict['text'] = text\n",
    "    data_all.append(cur_dict)"
   ]
  },
  {
   "cell_type": "code",
   "execution_count": 50,
   "id": "e489a9be",
   "metadata": {},
   "outputs": [
    {
     "name": "stderr",
     "output_type": "stream",
     "text": [
      "100%|██████████| 46617/46617 [01:27<00:00, 531.75it/s]\n"
     ]
    }
   ],
   "source": [
    "data_df = pd.DataFrame(columns=['question', 'labels'])\n",
    "for i in tqdm(range(len(data_all))):\n",
    "    if pd.notna(data_all[i]['labels'][0]):\n",
    "        data_df.loc[len(data_df.index)] = [data_all[i]['text'], ', '.join(data_all[i]['labels'])]"
   ]
  },
  {
   "cell_type": "code",
   "execution_count": null,
   "id": "5f93e98c",
   "metadata": {},
   "outputs": [],
   "source": [
    "print(1)"
   ]
  },
  {
   "cell_type": "code",
   "execution_count": 51,
   "id": "8ede643b",
   "metadata": {},
   "outputs": [
    {
     "name": "stderr",
     "output_type": "stream",
     "text": [
      "/tmp/ipykernel_462/4143687005.py:5: FutureWarning: The frame.append method is deprecated and will be removed from pandas in a future version. Use pandas.concat instead.\n",
      "  data_df_filt = data_df_filt.append(cur_sub, ignore_index=True)\n"
     ]
    }
   ],
   "source": [
    "data_df_filt = pd.DataFrame(columns=['question', 'labels'])\n",
    "for elem in list(relations_dict.keys()):\n",
    "    if relations_dict[elem] >= 2:\n",
    "        cur_sub = data_df.query('labels == @elem').reset_index(drop=True)\n",
    "        data_df_filt = data_df_filt.append(cur_sub, ignore_index=True)"
   ]
  },
  {
   "cell_type": "code",
   "execution_count": 52,
   "id": "9301fc51",
   "metadata": {},
   "outputs": [
    {
     "name": "stderr",
     "output_type": "stream",
     "text": [
      "100%|██████████| 24588/24588 [00:00<00:00, 47124.81it/s]\n"
     ]
    }
   ],
   "source": [
    "data_all_filt = []\n",
    "for i in tqdm(range(len(data_df_filt))):\n",
    "    text = data_df_filt.loc[i,'question']\n",
    "    labels = data_df_filt.loc[i,'labels']\n",
    "    cur_dict = {}\n",
    "    cur_dict['labels'] = [labels]\n",
    "    cur_dict['text'] = text\n",
    "    data_all_filt.append(cur_dict)"
   ]
  },
  {
   "cell_type": "code",
   "execution_count": 54,
   "id": "f969cdbb",
   "metadata": {},
   "outputs": [],
   "source": [
    "json.dump(data_all_filt, open('data_all_FALL/training_data.json', 'w'))"
   ]
  },
  {
   "cell_type": "code",
   "execution_count": 23,
   "id": "0e1bbf06",
   "metadata": {},
   "outputs": [],
   "source": [
    "f = open('data/training_data.json')\n",
    "\n",
    "data = json.load(f)"
   ]
  },
  {
   "cell_type": "code",
   "execution_count": 24,
   "id": "1c8602a8",
   "metadata": {},
   "outputs": [],
   "source": [
    "data_df = pd.DataFrame(columns=['question', 'labels'])"
   ]
  },
  {
   "cell_type": "code",
   "execution_count": 25,
   "id": "488be9cc",
   "metadata": {},
   "outputs": [],
   "source": [
    "relations_dict = dict()"
   ]
  },
  {
   "cell_type": "code",
   "execution_count": 26,
   "id": "2ecbc56a",
   "metadata": {},
   "outputs": [],
   "source": [
    "for i in range(len(data_df)):\n",
    "    elem = data_df.loc[i, 'labels']\n",
    "    if elem not in relations_dict:\n",
    "        relations_dict[elem] = 1\n",
    "    else:\n",
    "        relations_dict[elem] += 1"
   ]
  },
  {
   "cell_type": "code",
   "execution_count": 28,
   "id": "26d3cf82",
   "metadata": {},
   "outputs": [],
   "source": [
    "data_df_filt = pd.DataFrame(columns=['question', 'labels'])"
   ]
  },
  {
   "cell_type": "code",
   "execution_count": 29,
   "id": "bc5857cf",
   "metadata": {},
   "outputs": [
    {
     "name": "stderr",
     "output_type": "stream",
     "text": [
      "/tmp/ipykernel_10714/4252764261.py:4: FutureWarning: The frame.append method is deprecated and will be removed from pandas in a future version. Use pandas.concat instead.\n",
      "  data_df_filt = data_df_filt.append(cur_sub, ignore_index=True)\n"
     ]
    }
   ],
   "source": [
    "for elem in list(relations_dict.keys()):\n",
    "    if relations_dict[elem] >= 5:\n",
    "        cur_sub = data_df.query('labels == @elem').reset_index(drop=True)\n",
    "        data_df_filt = data_df_filt.append(cur_sub, ignore_index=True)\n",
    "#         else:\n",
    "#             cur_sub = data_df.query('labels == @elem').reset_index(drop=True).head(10)\n",
    "#             data_df_filt = data_df_filt.append(cur_sub, ignore_index=True)"
   ]
  },
  {
   "cell_type": "code",
   "execution_count": 30,
   "id": "01755437",
   "metadata": {},
   "outputs": [
    {
     "name": "stderr",
     "output_type": "stream",
     "text": [
      "100%|██████████| 36464/36464 [00:00<00:00, 42390.43it/s]\n"
     ]
    }
   ],
   "source": [
    "data_all_filt = []\n",
    "for i in tqdm(range(len(data_df_filt))):\n",
    "    text = data_df_filt.loc[i,'question']\n",
    "    labels = data_df_filt.loc[i,'labels']\n",
    "    cur_dict = {}\n",
    "    cur_dict['labels'] = [labels]\n",
    "    cur_dict['text'] = text\n",
    "    data_all_filt.append(cur_dict)"
   ]
  },
  {
   "cell_type": "code",
   "execution_count": 33,
   "id": "cfb3cf9c",
   "metadata": {},
   "outputs": [],
   "source": [
    "json.dump(data_all_filt, open('data/training_data_filt.json', 'w'))"
   ]
  },
  {
   "cell_type": "markdown",
   "id": "d075a7ed",
   "metadata": {},
   "source": [
    "### Rubq_test_file creation"
   ]
  },
  {
   "cell_type": "code",
   "execution_count": 105,
   "id": "76e7e73d",
   "metadata": {},
   "outputs": [],
   "source": [
    "rubq_test = pd.read_csv('data_all/rubq_test.csv')"
   ]
  },
  {
   "cell_type": "code",
   "execution_count": 489,
   "id": "501d69ff",
   "metadata": {},
   "outputs": [
    {
     "data": {
      "text/html": [
       "<div>\n",
       "<style scoped>\n",
       "    .dataframe tbody tr th:only-of-type {\n",
       "        vertical-align: middle;\n",
       "    }\n",
       "\n",
       "    .dataframe tbody tr th {\n",
       "        vertical-align: top;\n",
       "    }\n",
       "\n",
       "    .dataframe thead th {\n",
       "        text-align: right;\n",
       "    }\n",
       "</style>\n",
       "<table border=\"1\" class=\"dataframe\">\n",
       "  <thead>\n",
       "    <tr style=\"text-align: right;\">\n",
       "      <th></th>\n",
       "      <th>uid</th>\n",
       "      <th>question</th>\n",
       "      <th>subject</th>\n",
       "      <th>props</th>\n",
       "      <th>query</th>\n",
       "      <th>tag</th>\n",
       "      <th>answers</th>\n",
       "      <th>props_labs</th>\n",
       "      <th>prop_label</th>\n",
       "      <th>pred_label</th>\n",
       "    </tr>\n",
       "  </thead>\n",
       "  <tbody>\n",
       "    <tr>\n",
       "      <th>0</th>\n",
       "      <td>0</td>\n",
       "      <td>What can cause a tsunami?</td>\n",
       "      <td>Q8070</td>\n",
       "      <td>wdt:P828</td>\n",
       "      <td>SELECT ?answer \\nWHERE {\\n  wd:Q8070 wdt:P828 ...</td>\n",
       "      <td>1-hop</td>\n",
       "      <td>Q7944, Q60186, Q167903, Q2580904, Q5975740, Q7...</td>\n",
       "      <td>P828</td>\n",
       "      <td>has cause</td>\n",
       "      <td>has cause, instance of</td>\n",
       "    </tr>\n",
       "    <tr>\n",
       "      <th>5</th>\n",
       "      <td>6</td>\n",
       "      <td>What country owns the island of Tahiti?</td>\n",
       "      <td>Q42000</td>\n",
       "      <td>wdt:P17</td>\n",
       "      <td>SELECT ?answer \\nWHERE {\\n  wd:Q42000 wdt:P17 ...</td>\n",
       "      <td>1-hop</td>\n",
       "      <td>Q142</td>\n",
       "      <td>P17</td>\n",
       "      <td>country</td>\n",
       "      <td></td>\n",
       "    </tr>\n",
       "    <tr>\n",
       "      <th>6</th>\n",
       "      <td>8</td>\n",
       "      <td>Who created the Winter Palace in St. Petersburg?</td>\n",
       "      <td>Q182147</td>\n",
       "      <td>wdt:P84</td>\n",
       "      <td>SELECT ?answer \\nWHERE {\\n  wd:Q182147 wdt:P84...</td>\n",
       "      <td>1-hop</td>\n",
       "      <td>Q299687</td>\n",
       "      <td>P84</td>\n",
       "      <td>architect</td>\n",
       "      <td>creator</td>\n",
       "    </tr>\n",
       "    <tr>\n",
       "      <th>9</th>\n",
       "      <td>11</td>\n",
       "      <td>What geographical feature is called Limpopo?</td>\n",
       "      <td>Q173017</td>\n",
       "      <td>wdt:P31</td>\n",
       "      <td>SELECT ?answer \\nWHERE {\\n  wd:Q173017 wdt:P31...</td>\n",
       "      <td>1-hop</td>\n",
       "      <td>Q4022</td>\n",
       "      <td>P31</td>\n",
       "      <td>instance of</td>\n",
       "      <td>instance of, located in/on physical feature</td>\n",
       "    </tr>\n",
       "    <tr>\n",
       "      <th>10</th>\n",
       "      <td>12</td>\n",
       "      <td>What modern state occupies the territory where...</td>\n",
       "      <td>Q5680</td>\n",
       "      <td>wdt:P17</td>\n",
       "      <td>SELECT ?answer \\nWHERE {\\n  wd:Q5680 wdt:P17 ?...</td>\n",
       "      <td>1-hop</td>\n",
       "      <td>Q796</td>\n",
       "      <td>P17</td>\n",
       "      <td>country</td>\n",
       "      <td></td>\n",
       "    </tr>\n",
       "    <tr>\n",
       "      <th>...</th>\n",
       "      <td>...</td>\n",
       "      <td>...</td>\n",
       "      <td>...</td>\n",
       "      <td>...</td>\n",
       "      <td>...</td>\n",
       "      <td>...</td>\n",
       "      <td>...</td>\n",
       "      <td>...</td>\n",
       "      <td>...</td>\n",
       "      <td>...</td>\n",
       "    </tr>\n",
       "    <tr>\n",
       "      <th>1915</th>\n",
       "      <td>7195</td>\n",
       "      <td>What is the area of the sea of Azov?</td>\n",
       "      <td>Q35000</td>\n",
       "      <td>wdt:P2046</td>\n",
       "      <td>SELECT ?answer \\nWHERE {\\n wd:Q35000 wdt:P2046...</td>\n",
       "      <td>1-hop</td>\n",
       "      <td>37555</td>\n",
       "      <td>P2046</td>\n",
       "      <td>area</td>\n",
       "      <td>inception</td>\n",
       "    </tr>\n",
       "    <tr>\n",
       "      <th>1916</th>\n",
       "      <td>7196</td>\n",
       "      <td>What is the area of Belarus?</td>\n",
       "      <td>Q184</td>\n",
       "      <td>wdt:P2046</td>\n",
       "      <td>SELECT ?answer \\nWHERE {\\n wd:Q184 wdt:P2046 ?...</td>\n",
       "      <td>1-hop</td>\n",
       "      <td>207600.496983</td>\n",
       "      <td>P2046</td>\n",
       "      <td>area</td>\n",
       "      <td>inception</td>\n",
       "    </tr>\n",
       "    <tr>\n",
       "      <th>1917</th>\n",
       "      <td>7197</td>\n",
       "      <td>What is the area of ​​Kazakhstan?</td>\n",
       "      <td>Q232</td>\n",
       "      <td>wdt:P2046</td>\n",
       "      <td>SELECT ?answer \\nWHERE {\\n wd:Q232 wdt:P2046 ?...</td>\n",
       "      <td>1-hop</td>\n",
       "      <td>2724900</td>\n",
       "      <td>P2046</td>\n",
       "      <td>area</td>\n",
       "      <td>inception</td>\n",
       "    </tr>\n",
       "    <tr>\n",
       "      <th>1918</th>\n",
       "      <td>7198</td>\n",
       "      <td>When did Megalodon become extinct?</td>\n",
       "      <td>Q163873</td>\n",
       "      <td>wdt:P582</td>\n",
       "      <td>SELECT ?answer \\nWHERE {\\n wd:Q163873 wdt:P582...</td>\n",
       "      <td>1-hop</td>\n",
       "      <td>-3600000-01-01T00:00:00Z</td>\n",
       "      <td>P582</td>\n",
       "      <td>end time</td>\n",
       "      <td>inception</td>\n",
       "    </tr>\n",
       "    <tr>\n",
       "      <th>1919</th>\n",
       "      <td>7199</td>\n",
       "      <td>When did the Chernobyl nuclear power plant close?</td>\n",
       "      <td>Q215419</td>\n",
       "      <td>wdt:P730</td>\n",
       "      <td>SELECT ?answer \\nWHERE {\\n wd:Q215419 wdt:P730...</td>\n",
       "      <td>1-hop</td>\n",
       "      <td>2000-12-15T00:00:00Z</td>\n",
       "      <td>P730</td>\n",
       "      <td>service retirement</td>\n",
       "      <td>inception</td>\n",
       "    </tr>\n",
       "  </tbody>\n",
       "</table>\n",
       "<p>1556 rows × 10 columns</p>\n",
       "</div>"
      ],
      "text/plain": [
       "       uid                                           question  subject  \\\n",
       "0        0                          What can cause a tsunami?    Q8070   \n",
       "5        6            What country owns the island of Tahiti?   Q42000   \n",
       "6        8   Who created the Winter Palace in St. Petersburg?  Q182147   \n",
       "9       11       What geographical feature is called Limpopo?  Q173017   \n",
       "10      12  What modern state occupies the territory where...    Q5680   \n",
       "...    ...                                                ...      ...   \n",
       "1915  7195               What is the area of the sea of Azov?   Q35000   \n",
       "1916  7196                       What is the area of Belarus?     Q184   \n",
       "1917  7197                  What is the area of ​​Kazakhstan?     Q232   \n",
       "1918  7198                 When did Megalodon become extinct?  Q163873   \n",
       "1919  7199  When did the Chernobyl nuclear power plant close?  Q215419   \n",
       "\n",
       "          props                                              query    tag  \\\n",
       "0      wdt:P828  SELECT ?answer \\nWHERE {\\n  wd:Q8070 wdt:P828 ...  1-hop   \n",
       "5       wdt:P17  SELECT ?answer \\nWHERE {\\n  wd:Q42000 wdt:P17 ...  1-hop   \n",
       "6       wdt:P84  SELECT ?answer \\nWHERE {\\n  wd:Q182147 wdt:P84...  1-hop   \n",
       "9       wdt:P31  SELECT ?answer \\nWHERE {\\n  wd:Q173017 wdt:P31...  1-hop   \n",
       "10      wdt:P17  SELECT ?answer \\nWHERE {\\n  wd:Q5680 wdt:P17 ?...  1-hop   \n",
       "...         ...                                                ...    ...   \n",
       "1915  wdt:P2046  SELECT ?answer \\nWHERE {\\n wd:Q35000 wdt:P2046...  1-hop   \n",
       "1916  wdt:P2046  SELECT ?answer \\nWHERE {\\n wd:Q184 wdt:P2046 ?...  1-hop   \n",
       "1917  wdt:P2046  SELECT ?answer \\nWHERE {\\n wd:Q232 wdt:P2046 ?...  1-hop   \n",
       "1918   wdt:P582  SELECT ?answer \\nWHERE {\\n wd:Q163873 wdt:P582...  1-hop   \n",
       "1919   wdt:P730  SELECT ?answer \\nWHERE {\\n wd:Q215419 wdt:P730...  1-hop   \n",
       "\n",
       "                                                answers props_labs  \\\n",
       "0     Q7944, Q60186, Q167903, Q2580904, Q5975740, Q7...       P828   \n",
       "5                                                  Q142        P17   \n",
       "6                                               Q299687        P84   \n",
       "9                                                 Q4022        P31   \n",
       "10                                                 Q796        P17   \n",
       "...                                                 ...        ...   \n",
       "1915                                              37555      P2046   \n",
       "1916                                      207600.496983      P2046   \n",
       "1917                                            2724900      P2046   \n",
       "1918                           -3600000-01-01T00:00:00Z       P582   \n",
       "1919                               2000-12-15T00:00:00Z       P730   \n",
       "\n",
       "              prop_label                                   pred_label  \n",
       "0              has cause                       has cause, instance of  \n",
       "5                country                                               \n",
       "6              architect                                      creator  \n",
       "9            instance of  instance of, located in/on physical feature  \n",
       "10               country                                               \n",
       "...                  ...                                          ...  \n",
       "1915                area                                    inception  \n",
       "1916                area                                    inception  \n",
       "1917                area                                    inception  \n",
       "1918            end time                                    inception  \n",
       "1919  service retirement                                    inception  \n",
       "\n",
       "[1556 rows x 10 columns]"
      ]
     },
     "execution_count": 489,
     "metadata": {},
     "output_type": "execute_result"
    }
   ],
   "source": [
    "rubq_test.query('pred_label !=prop_label')"
   ]
  },
  {
   "cell_type": "code",
   "execution_count": 106,
   "id": "f8f788d0",
   "metadata": {},
   "outputs": [
    {
     "name": "stderr",
     "output_type": "stream",
     "text": [
      "100%|██████████| 2330/2330 [00:00<00:00, 8556.27it/s]\n"
     ]
    }
   ],
   "source": [
    "for i in tqdm(range(len(rubq_test))):\n",
    "    props_labs = []\n",
    "    if pd.notna(rubq_test.loc[i, 'props']):\n",
    "        props = rubq_test.loc[i, 'props'].split(', ')\n",
    "        for elem in props:\n",
    "            props_labs.append(elem.split(':')[-1])\n",
    "    rubq_test.loc[i, 'props_labs'] = ', '.join(props_labs)"
   ]
  },
  {
   "cell_type": "code",
   "execution_count": 107,
   "id": "904ab3a3",
   "metadata": {},
   "outputs": [
    {
     "name": "stderr",
     "output_type": "stream",
     "text": [
      "100%|██████████| 2330/2330 [00:05<00:00, 419.27it/s]\n"
     ]
    }
   ],
   "source": [
    "for i in tqdm(range(len(rubq_test))):\n",
    "    if rubq_test.loc[i, 'tag'] == \"0-hop\":\n",
    "         rubq_test.loc[i, 'prop_label'] = 'no-label'\n",
    "    elif pd.notna(rubq_test.loc[i, 'props']):\n",
    "        props = rubq_test.loc[i, 'props_labs'].split(', ')\n",
    "        props_labls = []\n",
    "        for elem in props:\n",
    "            if elem == 'altLabel':\n",
    "                props_labls.append('altLabel')\n",
    "            elif elem == 'label':\n",
    "                props_labls.append('label')\n",
    "            else:\n",
    "                try:\n",
    "                    props_labls.append(rels[elem]['label'])\n",
    "                except:\n",
    "                    entity_id = elem\n",
    "                    r = requests.get(\"https://www.wikidata.org/w/api.php?action=wbgetentities&props=labels&ids={}&languages=en&formatversion=2&format=json\".format(entity_id))\n",
    "                    ans = r.json()['entities'][entity_id]['labels']['en']['value']\n",
    "                    props_labls.append(ans)\n",
    "                    \n",
    "        rubq_test.loc[i, 'prop_label'] = ', '.join(props_labls) "
   ]
  },
  {
   "cell_type": "code",
   "execution_count": 54,
   "id": "9cca6110",
   "metadata": {},
   "outputs": [],
   "source": [
    "# rubq_test = rubq_test.query('tag != \"no-answer\"').reset_index(drop=True)"
   ]
  },
  {
   "cell_type": "code",
   "execution_count": 49,
   "id": "0b48efee",
   "metadata": {},
   "outputs": [
    {
     "name": "stderr",
     "output_type": "stream",
     "text": [
      "100%|██████████| 1920/1920 [00:00<00:00, 22462.22it/s]\n"
     ]
    }
   ],
   "source": [
    "test_data = []\n",
    "for i in tqdm(range(len(rubq_test))):\n",
    "    text = rubq_test.loc[i,'question']\n",
    "    labels = rubq_test.loc[i,'prop_label']\n",
    "    cur_dict = {}\n",
    "    cur_dict['labels'] = [labels]\n",
    "    cur_dict['text'] = text\n",
    "    test_data.append(cur_dict)"
   ]
  },
  {
   "cell_type": "code",
   "execution_count": 50,
   "id": "1dfe8fb1",
   "metadata": {},
   "outputs": [],
   "source": [
    "json.dump(test_data, open('data/test_data.json', 'w'))"
   ]
  }
 ],
 "metadata": {
  "kernelspec": {
   "display_name": "Python 3 (ipykernel)",
   "language": "python",
   "name": "python3"
  },
  "language_info": {
   "codemirror_mode": {
    "name": "ipython",
    "version": 3
   },
   "file_extension": ".py",
   "mimetype": "text/x-python",
   "name": "python",
   "nbconvert_exporter": "python",
   "pygments_lexer": "ipython3",
   "version": "3.8.10"
  }
 },
 "nbformat": 4,
 "nbformat_minor": 5
}
