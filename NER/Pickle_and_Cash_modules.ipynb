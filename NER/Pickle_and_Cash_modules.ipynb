{
 "cells": [
  {
   "cell_type": "markdown",
   "id": "c9079f2e",
   "metadata": {},
   "source": [
    "### Plan:\n",
    "1) Parse pickle file to retrieve entity names for IDs\n",
    "2) Use EntityToLabel module to retrieve entity names for rows not found in pickle\n",
    "3) Use Redirects module to retrieve redirects for rows not found in pickle"
   ]
  },
  {
   "cell_type": "code",
   "execution_count": 1,
   "id": "3d9b458a",
   "metadata": {},
   "outputs": [],
   "source": [
    "import pandas as pd \n",
    "import pickle\n",
    "from tqdm import tqdm\n",
    "import math\n",
    "import time"
   ]
  },
  {
   "cell_type": "markdown",
   "id": "acf1c510",
   "metadata": {},
   "source": [
    "### Download data"
   ]
  },
  {
   "cell_type": "code",
   "execution_count": 4,
   "id": "fdd5aca3",
   "metadata": {},
   "outputs": [],
   "source": [
    "path_to_train_simple_questions = \"/data/annotated_wd_data_test_answerable.txt\"\n",
    "data = pd.read_table(path_to_train_simple_questions, header=None).rename(columns = {0:\"subject\", 1:\"property\", 2:\"object\", 3:\"question\"})"
   ]
  },
  {
   "cell_type": "code",
   "execution_count": 79,
   "id": "5dcf0d34",
   "metadata": {},
   "outputs": [
    {
     "name": "stdout",
     "output_type": "stream",
     "text": [
      "--2022-09-26 14:46:04--  https://dl.fbaipublicfiles.com/GENRE/lang_title2wikidataID-normalized_with_redirect.pkl\n",
      "Resolving dl.fbaipublicfiles.com (dl.fbaipublicfiles.com)... 104.22.75.142, 172.67.9.4, 104.22.74.142, ...\n",
      "Connecting to dl.fbaipublicfiles.com (dl.fbaipublicfiles.com)|104.22.75.142|:443... connected.\n",
      "HTTP request sent, awaiting response... 200 OK\n",
      "Length: 3881415585 (3.6G) [application/octet-stream]\n",
      "Saving to: ‘lang_title2wikidataID-normalized_with_redirect.pkl’\n",
      "\n",
      "lang_title2wikidata 100%[===================>]   3.61G  16.1MB/s    in 3m 17s  \n",
      "\n",
      "2022-09-26 14:49:22 (18.8 MB/s) - ‘lang_title2wikidataID-normalized_with_redirect.pkl’ saved [3881415585/3881415585]\n",
      "\n"
     ]
    }
   ],
   "source": [
    "! wget https://dl.fbaipublicfiles.com/GENRE/lang_title2wikidataID-normalized_with_redirect.pkl"
   ]
  },
  {
   "cell_type": "code",
   "execution_count": 80,
   "id": "13506999",
   "metadata": {},
   "outputs": [],
   "source": [
    "with open(\"lang_title2wikidataID-normalized_with_redirect.pkl\", \"rb\") as f:\n",
    "    lang_title2wikidataID = pickle.load(f)"
   ]
  },
  {
   "cell_type": "markdown",
   "id": "7e004496",
   "metadata": {},
   "source": [
    "### Part 1: Parse pickle file "
   ]
  },
  {
   "cell_type": "code",
   "execution_count": 82,
   "id": "0808381e",
   "metadata": {},
   "outputs": [],
   "source": [
    "mydict = lang_title2wikidataID"
   ]
  },
  {
   "cell_type": "code",
   "execution_count": 83,
   "id": "65fe1115",
   "metadata": {},
   "outputs": [],
   "source": [
    "data_df = pd.DataFrame(mydict.items(), columns=['key', 'value'])"
   ]
  },
  {
   "cell_type": "code",
   "execution_count": 84,
   "id": "f2b98b03",
   "metadata": {},
   "outputs": [
    {
     "name": "stderr",
     "output_type": "stream",
     "text": [
      "/tmp/ipykernel_88/529269828.py:1: FutureWarning: Columnar iteration over characters will be deprecated in future releases.\n",
      "  data_df['lang'], data_df['name'] = data_df.key.str\n"
     ]
    }
   ],
   "source": [
    "data_df['lang'], data_df['name'] = data_df.key.str"
   ]
  },
  {
   "cell_type": "code",
   "execution_count": 85,
   "id": "21ff41e2",
   "metadata": {},
   "outputs": [],
   "source": [
    "data_df = data_df.query('lang == \"en\"')"
   ]
  },
  {
   "cell_type": "code",
   "execution_count": 86,
   "id": "94c619c5",
   "metadata": {},
   "outputs": [],
   "source": [
    "data_df = data_df.reset_index()"
   ]
  },
  {
   "cell_type": "code",
   "execution_count": 88,
   "id": "db35d4ff",
   "metadata": {},
   "outputs": [
    {
     "name": "stderr",
     "output_type": "stream",
     "text": [
      "100%|██████████| 14751661/14751661 [05:18<00:00, 46282.56it/s]\n"
     ]
    }
   ],
   "source": [
    "dict_opt = dict()\n",
    "for i in tqdm(range(len(data_df))):\n",
    "    cur_val = str(data_df.loc[i, 'value']).strip(\"{,},''\" )\n",
    "    if cur_val in dict_opt:\n",
    "        dict_opt[cur_val].append(data_df.loc[i, 'name'])\n",
    "    else:\n",
    "         dict_opt[cur_val] = [data_df.loc[i, 'name']]"
   ]
  },
  {
   "cell_type": "code",
   "execution_count": 89,
   "id": "406aa692",
   "metadata": {},
   "outputs": [
    {
     "name": "stderr",
     "output_type": "stream",
     "text": [
      "100%|██████████| 5622/5622 [00:00<00:00, 12936.95it/s]\n"
     ]
    }
   ],
   "source": [
    "for i in tqdm(range(len(data))):\n",
    "    cur_subject = data.loc[i, 'subject']\n",
    "    try:\n",
    "        cur_labels = dict_opt[cur_subject]\n",
    "        data.loc[i, 'subject_text'] = ', '.join(cur_labels)\n",
    "    except:\n",
    "        continue"
   ]
  },
  {
   "cell_type": "code",
   "execution_count": 90,
   "id": "6d35719a",
   "metadata": {},
   "outputs": [
    {
     "data": {
      "text/html": [
       "<div>\n",
       "<style scoped>\n",
       "    .dataframe tbody tr th:only-of-type {\n",
       "        vertical-align: middle;\n",
       "    }\n",
       "\n",
       "    .dataframe tbody tr th {\n",
       "        vertical-align: top;\n",
       "    }\n",
       "\n",
       "    .dataframe thead th {\n",
       "        text-align: right;\n",
       "    }\n",
       "</style>\n",
       "<table border=\"1\" class=\"dataframe\">\n",
       "  <thead>\n",
       "    <tr style=\"text-align: right;\">\n",
       "      <th></th>\n",
       "      <th>subject</th>\n",
       "      <th>property</th>\n",
       "      <th>object</th>\n",
       "      <th>question</th>\n",
       "      <th>subject_text</th>\n",
       "    </tr>\n",
       "  </thead>\n",
       "  <tbody>\n",
       "    <tr>\n",
       "      <th>0</th>\n",
       "      <td>Q7358590</td>\n",
       "      <td>P20</td>\n",
       "      <td>Q1637790</td>\n",
       "      <td>Where did roger marquis die</td>\n",
       "      <td>Roger Marquis</td>\n",
       "    </tr>\n",
       "    <tr>\n",
       "      <th>1</th>\n",
       "      <td>Q154335</td>\n",
       "      <td>P509</td>\n",
       "      <td>Q12152</td>\n",
       "      <td>what was the cause of death of yves klein</td>\n",
       "      <td>Yves Klein, The Void (artwork)</td>\n",
       "    </tr>\n",
       "    <tr>\n",
       "      <th>2</th>\n",
       "      <td>Q2747238</td>\n",
       "      <td>P413</td>\n",
       "      <td>Q5059480</td>\n",
       "      <td>What position does carlos gomez play?</td>\n",
       "      <td>Carlos Gómez, Carlos Gomez, Gómez, Carlos</td>\n",
       "    </tr>\n",
       "    <tr>\n",
       "      <th>3</th>\n",
       "      <td>Q62498</td>\n",
       "      <td>P21</td>\n",
       "      <td>Q6581097</td>\n",
       "      <td>how does engelbert zaschka identify</td>\n",
       "      <td>Engelbert Zaschka, Englebert Zaschka, Rotation...</td>\n",
       "    </tr>\n",
       "    <tr>\n",
       "      <th>4</th>\n",
       "      <td>Q182485</td>\n",
       "      <td>P413</td>\n",
       "      <td>Q1143358</td>\n",
       "      <td>what position does pee wee reese play in baseball</td>\n",
       "      <td>Pee Wee Reese, Harold H. Reese, Harold Henry &amp;...</td>\n",
       "    </tr>\n",
       "  </tbody>\n",
       "</table>\n",
       "</div>"
      ],
      "text/plain": [
       "    subject property    object  \\\n",
       "0  Q7358590      P20  Q1637790   \n",
       "1   Q154335     P509    Q12152   \n",
       "2  Q2747238     P413  Q5059480   \n",
       "3    Q62498      P21  Q6581097   \n",
       "4   Q182485     P413  Q1143358   \n",
       "\n",
       "                                            question  \\\n",
       "0                        Where did roger marquis die   \n",
       "1          what was the cause of death of yves klein   \n",
       "2              What position does carlos gomez play?   \n",
       "3               how does engelbert zaschka identify    \n",
       "4  what position does pee wee reese play in baseball   \n",
       "\n",
       "                                        subject_text  \n",
       "0                                      Roger Marquis  \n",
       "1                     Yves Klein, The Void (artwork)  \n",
       "2          Carlos Gómez, Carlos Gomez, Gómez, Carlos  \n",
       "3  Engelbert Zaschka, Englebert Zaschka, Rotation...  \n",
       "4  Pee Wee Reese, Harold H. Reese, Harold Henry &...  "
      ]
     },
     "execution_count": 90,
     "metadata": {},
     "output_type": "execute_result"
    }
   ],
   "source": [
    "data.head()"
   ]
  },
  {
   "cell_type": "code",
   "execution_count": 91,
   "id": "52f903d6",
   "metadata": {},
   "outputs": [],
   "source": [
    "data.to_csv('data_first_iteration.csv', mode = \"w\", index = False)"
   ]
  },
  {
   "cell_type": "code",
   "execution_count": 3,
   "id": "ae8a43b7",
   "metadata": {},
   "outputs": [],
   "source": [
    "data = pd.read_csv('data_first_iteration.csv')"
   ]
  },
  {
   "cell_type": "markdown",
   "id": "f3bf4d53",
   "metadata": {},
   "source": [
    "### Part 2: use WikidataEntityToLabel module"
   ]
  },
  {
   "cell_type": "code",
   "execution_count": 5,
   "id": "0977294e",
   "metadata": {},
   "outputs": [],
   "source": [
    "from kbqa.caches.wikidata_entity_to_label import WikidataEntityToLabel\n",
    "entity2label = WikidataEntityToLabel()"
   ]
  },
  {
   "cell_type": "code",
   "execution_count": 6,
   "id": "4e45e64f",
   "metadata": {},
   "outputs": [
    {
     "name": "stderr",
     "output_type": "stream",
     "text": [
      "100%|██████████| 5622/5622 [07:21<00:00, 12.74it/s]\n"
     ]
    }
   ],
   "source": [
    "for i in tqdm(range(len(data))):\n",
    "    if pd.isna(data.loc[i, 'subject_text']) == True:\n",
    "        time.sleep(1)\n",
    "        try:\n",
    "            label = entity2label.get_label(data.loc[i, 'subject'])\n",
    "            data.loc[i, 'subject_text'] = label\n",
    "        except:\n",
    "            continue"
   ]
  },
  {
   "cell_type": "code",
   "execution_count": 7,
   "id": "263efc3b",
   "metadata": {},
   "outputs": [
    {
     "data": {
      "text/html": [
       "<div>\n",
       "<style scoped>\n",
       "    .dataframe tbody tr th:only-of-type {\n",
       "        vertical-align: middle;\n",
       "    }\n",
       "\n",
       "    .dataframe tbody tr th {\n",
       "        vertical-align: top;\n",
       "    }\n",
       "\n",
       "    .dataframe thead th {\n",
       "        text-align: right;\n",
       "    }\n",
       "</style>\n",
       "<table border=\"1\" class=\"dataframe\">\n",
       "  <thead>\n",
       "    <tr style=\"text-align: right;\">\n",
       "      <th></th>\n",
       "      <th>subject</th>\n",
       "      <th>property</th>\n",
       "      <th>object</th>\n",
       "      <th>question</th>\n",
       "      <th>subject_text</th>\n",
       "    </tr>\n",
       "  </thead>\n",
       "  <tbody>\n",
       "  </tbody>\n",
       "</table>\n",
       "</div>"
      ],
      "text/plain": [
       "Empty DataFrame\n",
       "Columns: [subject, property, object, question, subject_text]\n",
       "Index: []"
      ]
     },
     "execution_count": 7,
     "metadata": {},
     "output_type": "execute_result"
    }
   ],
   "source": [
    "data[data['subject_text'].isna()]"
   ]
  },
  {
   "cell_type": "code",
   "execution_count": 9,
   "id": "58fb6ee7",
   "metadata": {},
   "outputs": [],
   "source": [
    "data.to_csv('data_second_iteration.csv', mode = \"w\", index = False)"
   ]
  },
  {
   "cell_type": "code",
   "execution_count": 10,
   "id": "06afba3c",
   "metadata": {},
   "outputs": [],
   "source": [
    "for j in range(len(data)):\n",
    "    if len(data.loc[j, 'subject_text'].split(',')) != 1:\n",
    "        data.loc[j, 'flag'] = 0\n",
    "    else:\n",
    "        data.loc[j, 'flag'] = 1\n",
    "data.to_csv('data_second_iteration_flag.csv', index = False)"
   ]
  },
  {
   "cell_type": "markdown",
   "id": "ba1d6a9a",
   "metadata": {},
   "source": [
    "### Part 3: use WikidataRedirectsCache module"
   ]
  },
  {
   "cell_type": "code",
   "execution_count": 11,
   "id": "ad5b2b64",
   "metadata": {},
   "outputs": [],
   "source": [
    "data_redirects = pd.read_csv('data_second_iteration_flag.csv')"
   ]
  },
  {
   "cell_type": "code",
   "execution_count": 13,
   "id": "4819a310",
   "metadata": {},
   "outputs": [],
   "source": [
    "from kbqa.caches.wikidata_redirects import WikidataRedirectsCache\n",
    "redirects = WikidataRedirectsCache()"
   ]
  },
  {
   "cell_type": "code",
   "execution_count": 14,
   "id": "7e86a68f",
   "metadata": {},
   "outputs": [
    {
     "name": "stderr",
     "output_type": "stream",
     "text": [
      "100%|██████████| 5622/5622 [14:02<00:00,  6.67it/s] \n"
     ]
    }
   ],
   "source": [
    "for k in tqdm(range(len(data_redirects))):\n",
    "    if data_redirects.loc[k, 'flag'] == 1:\n",
    "        text = data_redirects.loc[k, 'subject_text']\n",
    "        output = redirects.get_redirects(text)\n",
    "        if output != 'No results found' and output != 'Problem communicating with the server:':\n",
    "            data_redirects.loc[k, 'subject_text_add'] = ', '.join(output)\n",
    "            "
   ]
  },
  {
   "cell_type": "code",
   "execution_count": 16,
   "id": "092f74b7",
   "metadata": {},
   "outputs": [],
   "source": [
    "import numpy as np\n",
    "for m in range(len(data_redirects)):\n",
    "    if data_redirects.loc[m, 'subject_text'] == 'Nan':\n",
    "        data_redirects.loc[m, 'subject_text_add'] = np.nan"
   ]
  },
  {
   "cell_type": "code",
   "execution_count": 17,
   "id": "8e2351cb",
   "metadata": {},
   "outputs": [
    {
     "data": {
      "text/html": [
       "<div>\n",
       "<style scoped>\n",
       "    .dataframe tbody tr th:only-of-type {\n",
       "        vertical-align: middle;\n",
       "    }\n",
       "\n",
       "    .dataframe tbody tr th {\n",
       "        vertical-align: top;\n",
       "    }\n",
       "\n",
       "    .dataframe thead th {\n",
       "        text-align: right;\n",
       "    }\n",
       "</style>\n",
       "<table border=\"1\" class=\"dataframe\">\n",
       "  <thead>\n",
       "    <tr style=\"text-align: right;\">\n",
       "      <th></th>\n",
       "      <th>subject</th>\n",
       "      <th>property</th>\n",
       "      <th>object</th>\n",
       "      <th>question</th>\n",
       "      <th>subject_text</th>\n",
       "      <th>flag</th>\n",
       "      <th>subject_text_add</th>\n",
       "    </tr>\n",
       "  </thead>\n",
       "  <tbody>\n",
       "    <tr>\n",
       "      <th>121</th>\n",
       "      <td>Q13422918</td>\n",
       "      <td>P50</td>\n",
       "      <td>Q234865</td>\n",
       "      <td>who wrote \\\\\"w\\\\\" is for wasted</td>\n",
       "      <td>\"W\" Is for Wasted</td>\n",
       "      <td>1.0</td>\n",
       "      <td>Problem communicating with the server: ,</td>\n",
       "    </tr>\n",
       "    <tr>\n",
       "      <th>489</th>\n",
       "      <td>Q188605</td>\n",
       "      <td>R509</td>\n",
       "      <td>Q6386212</td>\n",
       "      <td>Who died from emphysema?</td>\n",
       "      <td>pulmonary emphysema</td>\n",
       "      <td>1.0</td>\n",
       "      <td>Emphysema, Centriacinar emphysema, Centrilobul...</td>\n",
       "    </tr>\n",
       "    <tr>\n",
       "      <th>539</th>\n",
       "      <td>Q2405480</td>\n",
       "      <td>R106</td>\n",
       "      <td>Q3106805</td>\n",
       "      <td>Name a voice actor.</td>\n",
       "      <td>voice actor</td>\n",
       "      <td>1.0</td>\n",
       "      <td>Voice acting, Amateur Voice Acting, Amateur vo...</td>\n",
       "    </tr>\n",
       "    <tr>\n",
       "      <th>614</th>\n",
       "      <td>Q4540294</td>\n",
       "      <td>P50</td>\n",
       "      <td>Q234865</td>\n",
       "      <td>Who wrote \\\\\"l\\\\\" is for lawless?</td>\n",
       "      <td>\"L\" Is for Lawless</td>\n",
       "      <td>1.0</td>\n",
       "      <td>Problem communicating with the server: ,</td>\n",
       "    </tr>\n",
       "    <tr>\n",
       "      <th>665</th>\n",
       "      <td>Q6581097</td>\n",
       "      <td>R21</td>\n",
       "      <td>Q1771345</td>\n",
       "      <td>who is a male character?</td>\n",
       "      <td>male</td>\n",
       "      <td>1.0</td>\n",
       "      <td>Maleness, Males, MALE, Andromorphic, Maled</td>\n",
       "    </tr>\n",
       "    <tr>\n",
       "      <th>...</th>\n",
       "      <td>...</td>\n",
       "      <td>...</td>\n",
       "      <td>...</td>\n",
       "      <td>...</td>\n",
       "      <td>...</td>\n",
       "      <td>...</td>\n",
       "      <td>...</td>\n",
       "    </tr>\n",
       "    <tr>\n",
       "      <th>5064</th>\n",
       "      <td>Q727543</td>\n",
       "      <td>P162</td>\n",
       "      <td>Q51583</td>\n",
       "      <td>Who produced double wedding</td>\n",
       "      <td>Double Wedding</td>\n",
       "      <td>1.0</td>\n",
       "      <td>Wedding, Wedding Venue, Wedding Venues, Weddin...</td>\n",
       "    </tr>\n",
       "    <tr>\n",
       "      <th>5225</th>\n",
       "      <td>Q2411068</td>\n",
       "      <td>P495</td>\n",
       "      <td>Q30</td>\n",
       "      <td>Which country is the film the end from</td>\n",
       "      <td>The End</td>\n",
       "      <td>1.0</td>\n",
       "      <td>The End, The End (band), The End (disambiguati...</td>\n",
       "    </tr>\n",
       "    <tr>\n",
       "      <th>5327</th>\n",
       "      <td>Q6581097</td>\n",
       "      <td>R21</td>\n",
       "      <td>Q2050686</td>\n",
       "      <td>who is a male character from csi: miami?</td>\n",
       "      <td>male</td>\n",
       "      <td>1.0</td>\n",
       "      <td>Maleness, Males, MALE, Andromorphic, Maled</td>\n",
       "    </tr>\n",
       "    <tr>\n",
       "      <th>5360</th>\n",
       "      <td>Q4838235</td>\n",
       "      <td>P495</td>\n",
       "      <td>Q30</td>\n",
       "      <td>What country was the film Baby Clothes produce...</td>\n",
       "      <td>Baby Clothes</td>\n",
       "      <td>1.0</td>\n",
       "      <td>Infant clothing, Toddler clothes, Toddler clot...</td>\n",
       "    </tr>\n",
       "    <tr>\n",
       "      <th>5527</th>\n",
       "      <td>Q6581097</td>\n",
       "      <td>R21</td>\n",
       "      <td>Q912184</td>\n",
       "      <td>Name someone who is a male character</td>\n",
       "      <td>male</td>\n",
       "      <td>1.0</td>\n",
       "      <td>Maleness, Males, MALE, Andromorphic, Maled</td>\n",
       "    </tr>\n",
       "  </tbody>\n",
       "</table>\n",
       "<p>70 rows × 7 columns</p>\n",
       "</div>"
      ],
      "text/plain": [
       "        subject property    object  \\\n",
       "121   Q13422918      P50   Q234865   \n",
       "489     Q188605     R509  Q6386212   \n",
       "539    Q2405480     R106  Q3106805   \n",
       "614    Q4540294      P50   Q234865   \n",
       "665    Q6581097      R21  Q1771345   \n",
       "...         ...      ...       ...   \n",
       "5064    Q727543     P162    Q51583   \n",
       "5225   Q2411068     P495       Q30   \n",
       "5327   Q6581097      R21  Q2050686   \n",
       "5360   Q4838235     P495       Q30   \n",
       "5527   Q6581097      R21   Q912184   \n",
       "\n",
       "                                               question         subject_text  \\\n",
       "121                    who wrote \\\\\"w\\\\\" is for wasted     \"W\" Is for Wasted   \n",
       "489                            Who died from emphysema?  pulmonary emphysema   \n",
       "539                                 Name a voice actor.          voice actor   \n",
       "614                   Who wrote \\\\\"l\\\\\" is for lawless?   \"L\" Is for Lawless   \n",
       "665                            who is a male character?                 male   \n",
       "...                                                 ...                  ...   \n",
       "5064                        Who produced double wedding       Double Wedding   \n",
       "5225             Which country is the film the end from              The End   \n",
       "5327           who is a male character from csi: miami?                 male   \n",
       "5360  What country was the film Baby Clothes produce...         Baby Clothes   \n",
       "5527               Name someone who is a male character                 male   \n",
       "\n",
       "      flag                                   subject_text_add  \n",
       "121    1.0          Problem communicating with the server: ,   \n",
       "489    1.0  Emphysema, Centriacinar emphysema, Centrilobul...  \n",
       "539    1.0  Voice acting, Amateur Voice Acting, Amateur vo...  \n",
       "614    1.0          Problem communicating with the server: ,   \n",
       "665    1.0         Maleness, Males, MALE, Andromorphic, Maled  \n",
       "...    ...                                                ...  \n",
       "5064   1.0  Wedding, Wedding Venue, Wedding Venues, Weddin...  \n",
       "5225   1.0  The End, The End (band), The End (disambiguati...  \n",
       "5327   1.0         Maleness, Males, MALE, Andromorphic, Maled  \n",
       "5360   1.0  Infant clothing, Toddler clothes, Toddler clot...  \n",
       "5527   1.0         Maleness, Males, MALE, Andromorphic, Maled  \n",
       "\n",
       "[70 rows x 7 columns]"
      ]
     },
     "execution_count": 17,
     "metadata": {},
     "output_type": "execute_result"
    }
   ],
   "source": [
    "data_redirects[data_redirects['subject_text_add'].notna()]"
   ]
  },
  {
   "cell_type": "code",
   "execution_count": 19,
   "id": "06bff290",
   "metadata": {},
   "outputs": [],
   "source": [
    "data_redirects['subject_text_all'] = data_redirects[['subject_text', 'subject_text_add']].apply(lambda x: ', '.join(x[x.notnull()]), axis = 1)\n"
   ]
  },
  {
   "cell_type": "code",
   "execution_count": 21,
   "id": "9f98f0f5",
   "metadata": {},
   "outputs": [],
   "source": [
    "data_redirects.to_csv('data_third_iteration.csv', index=False)"
   ]
  }
 ],
 "metadata": {
  "kernelspec": {
   "display_name": "Python 3 (ipykernel)",
   "language": "python",
   "name": "python3"
  },
  "language_info": {
   "codemirror_mode": {
    "name": "ipython",
    "version": 3
   },
   "file_extension": ".py",
   "mimetype": "text/x-python",
   "name": "python",
   "nbconvert_exporter": "python",
   "pygments_lexer": "ipython3",
   "version": "3.8.10"
  }
 },
 "nbformat": 4,
 "nbformat_minor": 5
}
