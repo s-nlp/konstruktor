{
 "cells": [
  {
   "cell_type": "markdown",
   "id": "e660c2e1",
   "metadata": {},
   "source": [
    "1) Finetune NER with Spacy on simple questions with base parameters.\n",
    "\n",
    "base_config is taken for the following parameters (cpu, ner and accuracy as a target) from https://spacy.io/usage/training/;\n",
    "\n",
    "the only change is vectors = \"en_core_web_lg\" is changed for vectors = \"en_core_web_sm\"\n",
    "\n",
    "2) With the help of the saved model, prediction is made for all three datasets (test, train, dev)"
   ]
  },
  {
   "cell_type": "code",
   "execution_count": null,
   "id": "8023509c",
   "metadata": {},
   "outputs": [],
   "source": [
    "! pip install spacy-transformers"
   ]
  },
  {
   "cell_type": "code",
   "execution_count": 31,
   "id": "0742f7b9",
   "metadata": {},
   "outputs": [],
   "source": [
    "import spacy\n",
    "from spacy.tokens import DocBin\n",
    "import en_core_web_sm\n",
    "import pandas as pd\n",
    "from tqdm import tqdm\n",
    "import numpy as np"
   ]
  },
  {
   "cell_type": "markdown",
   "id": "a0620a47",
   "metadata": {},
   "source": [
    "### Prepare data for Spacy input"
   ]
  },
  {
   "cell_type": "code",
   "execution_count": 55,
   "id": "c274cc9e",
   "metadata": {},
   "outputs": [],
   "source": [
    "data_ner = pd.read_csv('val_ner_auto.csv')"
   ]
  },
  {
   "cell_type": "code",
   "execution_count": 3,
   "id": "3bf30860",
   "metadata": {},
   "outputs": [
    {
     "name": "stderr",
     "output_type": "stream",
     "text": [
      "100%|██████████| 2821/2821 [00:00<00:00, 39029.84it/s]\n"
     ]
    }
   ],
   "source": [
    "training_data = []\n",
    "for i in tqdm(range(len(data_ner))):\n",
    "    init_question = data_ner.loc[i, 'question']\n",
    "    subj = data_ner.loc[i, 'subject_text_all']\n",
    "    cand = data_ner.loc[i, 'ner_auto']\n",
    "    if pd.notna(cand) and pd.notna(subj):\n",
    "        cand = \" \".join(cand.split())\n",
    "        ind = init_question.find(cand)\n",
    "        training_data.append((init_question, [(ind, ind+len(cand), \"PERSON\")]))"
   ]
  },
  {
   "cell_type": "code",
   "execution_count": 4,
   "id": "4748bf34",
   "metadata": {},
   "outputs": [],
   "source": [
    "count = 0\n",
    "nlp = spacy.blank(\"en\")\n",
    "# the DocBin will store the example documents\n",
    "db = DocBin()\n",
    "for text, annotations in training_data:\n",
    "    doc = nlp(text)\n",
    "    ents = []\n",
    "    for start, end, label in annotations:\n",
    "        count +=1 \n",
    "        span = doc.char_span(start, end, label=label)\n",
    "        if span is None:\n",
    "            span = doc.char_span(start, end+1, label=label)\n",
    "        if span is None:\n",
    "            span = doc.char_span(start, end+2, label=label)\n",
    "        if span is None:\n",
    "            span = doc.char_span(start, end+3, label=label)\n",
    "        if span is None:\n",
    "            span = doc.char_span(start, end+4, label=label)\n",
    "        if span is None:\n",
    "            span = doc.char_span(start, end+5, label=label)\n",
    "        if span is None:\n",
    "            span = doc.char_span(start, end+6, label=label)\n",
    "        if span is None:\n",
    "            span = doc.char_span(start, end+7, label=label)\n",
    "        if span is None:\n",
    "            span = doc.char_span(start, end+8, label=label)\n",
    "        if span is None:\n",
    "            span = doc.char_span(start, end+9, label=label)\n",
    "        if span is None:\n",
    "            span = doc.char_span(start, end+10, label=label)\n",
    "        if span is None:\n",
    "            span = doc.char_span(start, end+11, label=label)\n",
    "        if span is None:\n",
    "            span = doc.char_span(start, end+12, label=label)\n",
    "        if span is None:\n",
    "            span = doc.char_span(start, end+13, label=label)\n",
    "        if span is None:\n",
    "            span = doc.char_span(start, end+14, label=label)\n",
    "        if span is None:\n",
    "            span = doc.char_span(start, end+15, label=label)\n",
    "        if span is None:\n",
    "            span = doc.char_span(start-1, end, label=label)\n",
    "        if span is None:\n",
    "            span = doc.char_span(start-2, end, label=label)\n",
    "        if span is None:\n",
    "            span = doc.char_span(start-3, end, label=label)\n",
    "        if span is None:\n",
    "            span = doc.char_span(start-2, end+1, label=label)\n",
    "        if span is None:\n",
    "            span = doc.char_span(start-4, end, label=label)\n",
    "        if span is None:\n",
    "            span = doc.char_span(start-5, end, label=label)\n",
    "        if span is None:\n",
    "            span = doc.char_span(start-6, end, label=label)\n",
    "        if span is None:\n",
    "            span = doc.char_span(start-7, end, label=label)\n",
    "        if span is None:\n",
    "            span = doc.char_span(start-8, end, label=label)\n",
    "        if span is None:\n",
    "            span = doc.char_span(start-9, end, label=label)\n",
    "        if span is None:\n",
    "            span = doc.char_span(start-10, end, label=label)\n",
    "        ents.append(span)\n",
    "    doc.ents = ents\n",
    "    db.add(doc)\n",
    "db.to_disk(\"./dev.spacy\")"
   ]
  },
  {
   "cell_type": "markdown",
   "id": "67b858d2",
   "metadata": {},
   "source": [
    "### Train model"
   ]
  },
  {
   "cell_type": "code",
   "execution_count": 5,
   "id": "1773dbd8",
   "metadata": {},
   "outputs": [
    {
     "name": "stdout",
     "output_type": "stream",
     "text": [
      "mkdir: cannot create directory ‘data’: File exists\r\n"
     ]
    }
   ],
   "source": [
    "!mkdir data"
   ]
  },
  {
   "cell_type": "code",
   "execution_count": 6,
   "id": "9f6b63e5",
   "metadata": {},
   "outputs": [
    {
     "name": "stdout",
     "output_type": "stream",
     "text": [
      "\u001b[38;5;2m✔ Auto-filled config with all values\u001b[0m\r\n",
      "\u001b[38;5;2m✔ Saved config\u001b[0m\r\n",
      "data/config.cfg\r\n",
      "You can now add your data and train your pipeline:\r\n",
      "python -m spacy train config.cfg --paths.train ./train.spacy --paths.dev ./dev.spacy\r\n"
     ]
    }
   ],
   "source": [
    "! python3 -m spacy init fill-config data/base_config.cfg data/config.cfg"
   ]
  },
  {
   "cell_type": "code",
   "execution_count": 7,
   "id": "bf56004b",
   "metadata": {},
   "outputs": [],
   "source": [
    "nlp = en_core_web_sm.load()"
   ]
  },
  {
   "cell_type": "code",
   "execution_count": 9,
   "id": "62e7c4c5",
   "metadata": {},
   "outputs": [
    {
     "name": "stdout",
     "output_type": "stream",
     "text": [
      "\u001b[38;5;2m✔ Created output directory: output\u001b[0m\n",
      "\u001b[38;5;4mℹ Saving to output directory: output\u001b[0m\n",
      "\u001b[38;5;4mℹ Using CPU\u001b[0m\n",
      "\u001b[1m\n",
      "=========================== Initializing pipeline ===========================\u001b[0m\n",
      "[2022-10-03 07:42:28,889] [INFO] Set up nlp object from config\n",
      "[2022-10-03 07:42:28,898] [INFO] Pipeline: ['tok2vec', 'ner']\n",
      "[2022-10-03 07:42:28,901] [INFO] Created vocabulary\n",
      "[2022-10-03 07:42:29,367] [WARNING] [W112] The model specified to use for initial vectors (en_core_web_sm) has no vectors. This is almost certainly a mistake.\n",
      "[2022-10-03 07:42:29,369] [INFO] Added vectors: en_core_web_sm\n",
      "[2022-10-03 07:42:29,370] [INFO] Finished initializing nlp object\n",
      "[2022-10-03 07:42:34,010] [INFO] Initialized pipeline components: ['tok2vec', 'ner']\n",
      "\u001b[38;5;2m✔ Initialized pipeline\u001b[0m\n",
      "\u001b[1m\n",
      "============================= Training pipeline =============================\u001b[0m\n",
      "\u001b[38;5;4mℹ Pipeline: ['tok2vec', 'ner']\u001b[0m\n",
      "\u001b[38;5;4mℹ Initial learn rate: 0.001\u001b[0m\n",
      "E    #       LOSS TOK2VEC  LOSS NER  ENTS_F  ENTS_P  ENTS_R  SCORE \n",
      "---  ------  ------------  --------  ------  ------  ------  ------\n",
      "  0       0          0.00     49.83    0.42    8.11    0.21    0.00\n",
      "  0     200         16.37   2707.14   80.16   85.51   75.44    0.80\n",
      "  0     400         15.62   1471.77   84.61   84.79   84.43    0.85\n",
      "  0     600         17.65   1400.76   87.51   88.65   86.39    0.88\n",
      "  0     800         20.05   1522.99   89.40   90.65   88.18    0.89\n",
      "  1    1000         24.29   1405.75   90.14   90.09   90.19    0.90\n",
      "  1    1200         29.20   1368.85   90.12   91.79   88.51    0.90\n",
      "  1    1400         37.44   1670.21   91.45   91.75   91.16    0.91\n",
      "  2    1600         45.10   1305.65   89.60   89.73   89.47    0.90\n",
      "  3    1800         50.16   1333.85   91.47   91.93   91.01    0.91\n",
      "  4    2000         60.20   1164.69   91.17   91.25   91.08    0.91\n",
      "  5    2200         79.48   1047.37   90.33   90.04   90.62    0.90\n",
      "  6    2400         82.13    877.72   91.29   91.54   91.05    0.91\n",
      "  7    2600        108.91    708.81   91.77   92.32   91.23    0.92\n",
      "  9    2800        107.26    627.93   90.70   90.93   90.48    0.91\n",
      " 10    3000        112.27    553.70   90.86   90.63   91.08    0.91\n",
      " 11    3200        124.03    450.12   91.03   91.41   90.66    0.91\n",
      " 13    3400        150.59    435.48   91.16   91.46   90.87    0.91\n",
      " 14    3600        195.91    426.87   90.89   91.05   90.73    0.91\n",
      " 15    3800        186.18    425.73   90.37   90.49   90.26    0.90\n",
      " 17    4000        267.11    333.48   90.63   91.07   90.19    0.91\n",
      " 18    4200        280.61    370.99   90.49   90.57   90.40    0.90\n",
      "\u001b[38;5;2m✔ Saved pipeline to output directory\u001b[0m\n",
      "output/model-last\n"
     ]
    }
   ],
   "source": [
    "! python3 -m spacy train data/config.cfg --output ./output --paths.train data/train.spacy --paths.dev data/dev.spacy"
   ]
  },
  {
   "cell_type": "markdown",
   "id": "01d88955",
   "metadata": {},
   "source": [
    "### Prediction with finetuned NER"
   ]
  },
  {
   "cell_type": "code",
   "execution_count": 56,
   "id": "db702db2",
   "metadata": {},
   "outputs": [
    {
     "name": "stderr",
     "output_type": "stream",
     "text": [
      "100%|██████████| 2821/2821 [00:27<00:00, 103.75it/s]\n"
     ]
    }
   ],
   "source": [
    "nlp = spacy.load(\"output/model-best\")\n",
    "for j in tqdm(range(len(data_ner))):\n",
    "    cur_question = data_ner.loc[j, 'question']\n",
    "    doc = nlp(cur_question)\n",
    "    data_ner.loc[j, 'ner_spacy'] =','.join([ent.text for ent in doc.ents])\n",
    "    if data_ner.loc[j, 'ner_spacy'] == '':\n",
    "        data_ner.loc[j, 'ner_spacy'] = np.nan"
   ]
  },
  {
   "cell_type": "code",
   "execution_count": 57,
   "id": "557d0997",
   "metadata": {},
   "outputs": [],
   "source": [
    "#generate sentence with start-end tokens\n",
    "for j in range(len(data_ner)):\n",
    "    init_question = data_ner.loc[j, 'question']\n",
    "    if pd.notna(data_ner.loc[j, 'ner_spacy']):\n",
    "        cand = data_ner.loc[j, 'ner_spacy']\n",
    "        ind = data_ner.loc[j, 'question'].find(cand)\n",
    "        new_ques = init_question[:ind]+ '[START] '+ init_question[ind:ind+len(cand)] + ' [END]' + init_question[ind+len(cand):]\n",
    "        data_ner.loc[j, 'question_ner_spacy'] = new_ques\n",
    "    else:\n",
    "        new_ques = '[START] '+ init_question +'[END]'\n",
    "        data_ner.loc[j, 'question_ner_spacy'] = new_ques"
   ]
  },
  {
   "cell_type": "code",
   "execution_count": 58,
   "id": "5b246cb9",
   "metadata": {},
   "outputs": [],
   "source": [
    "data_ner.to_csv('val_ner_auto_spacy.csv')"
   ]
  }
 ],
 "metadata": {
  "kernelspec": {
   "display_name": "Python 3 (ipykernel)",
   "language": "python",
   "name": "python3"
  },
  "language_info": {
   "codemirror_mode": {
    "name": "ipython",
    "version": 3
   },
   "file_extension": ".py",
   "mimetype": "text/x-python",
   "name": "python",
   "nbconvert_exporter": "python",
   "pygments_lexer": "ipython3",
   "version": "3.8.10"
  }
 },
 "nbformat": 4,
 "nbformat_minor": 5
}
