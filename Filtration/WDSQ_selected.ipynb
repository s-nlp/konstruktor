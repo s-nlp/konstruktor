{
 "cells": [
  {
   "cell_type": "code",
   "execution_count": 2,
   "id": "c3b9e05d",
   "metadata": {},
   "outputs": [],
   "source": [
    "import pandas as pd\n",
    "\n",
    "wdsq = pd.read_csv('wdsq_paper_res_upd.csv')"
   ]
  },
  {
   "cell_type": "code",
   "execution_count": 3,
   "id": "07335781",
   "metadata": {},
   "outputs": [
    {
     "name": "stdout",
     "output_type": "stream",
     "text": [
      "--2023-09-11 13:34:33--  https://zenodo.org/api/files/83c58843-66fc-4e56-a2b2-6c9fc6a65e29/RuWikidata.zip\n",
      "Resolving zenodo.org (zenodo.org)... 188.185.124.72\n",
      "Connecting to zenodo.org (zenodo.org)|188.185.124.72|:443... connected.\n",
      "HTTP request sent, awaiting response... 200 OK\n",
      "Length: 3317350475 (3.1G) [application/octet-stream]\n",
      "Saving to: ‘RuWikidata.zip’\n",
      "\n",
      "RuWikidata.zip      100%[===================>]   3.09G  3.58MB/s    in 17m 20s \n",
      "\n",
      "2023-09-11 13:51:53 (3.04 MB/s) - ‘RuWikidata.zip’ saved [3317350475/3317350475]\n",
      "\n"
     ]
    }
   ],
   "source": [
    "! wget https://zenodo.org/api/files/83c58843-66fc-4e56-a2b2-6c9fc6a65e29/RuWikidata.zip"
   ]
  },
  {
   "cell_type": "code",
   "execution_count": 7,
   "id": "6a7d434c",
   "metadata": {},
   "outputs": [
    {
     "name": "stdout",
     "output_type": "stream",
     "text": [
      "Reading package lists... Done\n",
      "Building dependency tree       \n",
      "Reading state information... Done\n",
      "Suggested packages:\n",
      "  zip\n",
      "The following NEW packages will be installed:\n",
      "  unzip\n",
      "0 upgraded, 1 newly installed, 0 to remove and 4 not upgraded.\n",
      "Need to get 168 kB of archives.\n",
      "After this operation, 593 kB of additional disk space will be used.\n",
      "Get:1 http://archive.ubuntu.com/ubuntu focal-updates/main amd64 unzip amd64 6.0-25ubuntu1.1 [168 kB]\n",
      "Fetched 168 kB in 1s (170 kB/s) \u001b[0m33m\u001b[33m\n",
      "debconf: delaying package configuration, since apt-utils is not installed\n",
      "\n",
      "\u001b7\u001b[0;23r\u001b8\u001b[1ASelecting previously unselected package unzip.\n",
      "(Reading database ... 21105 files and directories currently installed.)\n",
      "Preparing to unpack .../unzip_6.0-25ubuntu1.1_amd64.deb ...\n",
      "\u001b7\u001b[24;0f\u001b[42m\u001b[30mProgress: [  0%]\u001b[49m\u001b[39m [..........................................................] \u001b8\u001b7\u001b[24;0f\u001b[42m\u001b[30mProgress: [ 20%]\u001b[49m\u001b[39m [###########...............................................] \u001b8Unpacking unzip (6.0-25ubuntu1.1) ...\n",
      "\u001b7\u001b[24;0f\u001b[42m\u001b[30mProgress: [ 40%]\u001b[49m\u001b[39m [#######################...................................] \u001b8Setting up unzip (6.0-25ubuntu1.1) ...\n",
      "\u001b7\u001b[24;0f\u001b[42m\u001b[30mProgress: [ 60%]\u001b[49m\u001b[39m [##################################........................] \u001b8\u001b7\u001b[24;0f\u001b[42m\u001b[30mProgress: [ 80%]\u001b[49m\u001b[39m [##############################################............] \u001b8Processing triggers for mime-support (3.64ubuntu1) ...\n",
      "\n",
      "\u001b7\u001b[0;24r\u001b8\u001b[1A\u001b[J"
     ]
    }
   ],
   "source": [
    "! apt install unzip"
   ]
  },
  {
   "cell_type": "code",
   "execution_count": 4,
   "id": "1b7083ba",
   "metadata": {},
   "outputs": [],
   "source": [
    "with open('Wikidata8M/wdt_all.ttl') as f:\n",
    "    lines = f.readlines()"
   ]
  },
  {
   "cell_type": "code",
   "execution_count": 54,
   "id": "0e4a7a1f",
   "metadata": {},
   "outputs": [
    {
     "name": "stderr",
     "output_type": "stream",
     "text": [
      "100%|██████████| 70824250/70824250 [01:16<00:00, 924853.08it/s] \n"
     ]
    }
   ],
   "source": [
    "q_dict = dict()\n",
    "ids = []\n",
    "for i in tqdm(range(len(lines))):\n",
    "    if lines[i][:3] == 'wd:':\n",
    "        ids.append(i)\n",
    "        q_id = lines[i].split(' ')[0].split('wd:')[-1]\n",
    "        if q_id in q_dict:\n",
    "            q_dict[q_id].append(i)\n",
    "        else:\n",
    "            q_dict[q_id] = [i]"
   ]
  },
  {
   "cell_type": "code",
   "execution_count": 81,
   "id": "be31fcee",
   "metadata": {},
   "outputs": [
    {
     "name": "stderr",
     "output_type": "stream",
     "text": [
      "100%|██████████| 5622/5622 [00:00<00:00, 10787.41it/s]\n"
     ]
    }
   ],
   "source": [
    "for i in tqdm(range(len(wdsq))):\n",
    "    \n",
    "    subj = wdsq.loc[i, 'subject']\n",
    "#     matches = [prop, obj]\n",
    "    if subj not in q_dict:\n",
    "        wdsq.loc[i, 'm3m_ent'] = 0\n",
    "    else:\n",
    "        wdsq.loc[i, 'm3m_ent'] = 1"
   ]
  },
  {
   "cell_type": "code",
   "execution_count": 120,
   "id": "60a6063a",
   "metadata": {},
   "outputs": [],
   "source": [
    "wdsq_sel.to_csv('wdsq_paper_res_sel.csv')"
   ]
  }
 ],
 "metadata": {
  "kernelspec": {
   "display_name": "Python 3 (ipykernel)",
   "language": "python",
   "name": "python3"
  },
  "language_info": {
   "codemirror_mode": {
    "name": "ipython",
    "version": 3
   },
   "file_extension": ".py",
   "mimetype": "text/x-python",
   "name": "python",
   "nbconvert_exporter": "python",
   "pygments_lexer": "ipython3",
   "version": "3.8.10"
  }
 },
 "nbformat": 4,
 "nbformat_minor": 5
}
