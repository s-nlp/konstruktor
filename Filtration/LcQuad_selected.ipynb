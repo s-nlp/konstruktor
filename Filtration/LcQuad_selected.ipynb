{
 "cells": [
  {
   "cell_type": "code",
   "execution_count": 1,
   "id": "97f019ab",
   "metadata": {},
   "outputs": [],
   "source": [
    "import json\n",
    "f = open('test_lcquadv2.json')\n",
    "data = json.load(f)"
   ]
  },
  {
   "cell_type": "code",
   "execution_count": 2,
   "id": "1fc2ce8d",
   "metadata": {},
   "outputs": [],
   "source": [
    "from tqdm import tqdm"
   ]
  },
  {
   "cell_type": "code",
   "execution_count": 3,
   "id": "2e81037e",
   "metadata": {},
   "outputs": [
    {
     "name": "stderr",
     "output_type": "stream",
     "text": [
      "100%|██████████| 6046/6046 [00:00<00:00, 492364.90it/s]\n"
     ]
    }
   ],
   "source": [
    "templates = set()\n",
    "for i in tqdm(range(len(data))):\n",
    "    if len(data[i]['template'])>0:\n",
    "        templates.add(data[i]['template'])"
   ]
  },
  {
   "cell_type": "code",
   "execution_count": 4,
   "id": "b05a24db",
   "metadata": {},
   "outputs": [
    {
     "data": {
      "text/plain": [
       "'<?S P O ; ?S InstanceOf Type>'"
      ]
     },
     "execution_count": 4,
     "metadata": {},
     "output_type": "execute_result"
    }
   ],
   "source": [
    "data[0]['template']"
   ]
  },
  {
   "cell_type": "code",
   "execution_count": 5,
   "id": "c6a431e5",
   "metadata": {},
   "outputs": [],
   "source": [
    "ids = []\n",
    "for i in range(len(data)):\n",
    "    if data[i]['template'] == '?D RDE E' or data[i]['template'] == 'E REF ?F':\n",
    "        ids.append(i)\n",
    "#         print(data[i]['sparql_wikidata'])"
   ]
  },
  {
   "cell_type": "code",
   "execution_count": 7,
   "id": "6e3b4c7c",
   "metadata": {},
   "outputs": [],
   "source": [
    "import pandas as pd\n",
    "lcquad = pd.DataFrame(columns = ['question', 'sparql'])"
   ]
  },
  {
   "cell_type": "code",
   "execution_count": 8,
   "id": "8f774a54",
   "metadata": {},
   "outputs": [],
   "source": [
    "for i in range(len(ids)):\n",
    "    cur_id = ids[i]\n",
    "    cur_ques = data[cur_id]['question']\n",
    "    cur_sparql = data[cur_id]['sparql_wikidata']\n",
    "    lcquad.loc[i, 'question'] = cur_ques\n",
    "    lcquad.loc[i, 'sparql'] = cur_sparql"
   ]
  },
  {
   "cell_type": "code",
   "execution_count": 9,
   "id": "8f18e852",
   "metadata": {},
   "outputs": [],
   "source": [
    "for i in range(len(lcquad)):\n",
    "    lcquad.loc[i, 'entity'] = lcquad.loc[i, 'sparql'].split('wd:')[-1].split('}')[0]"
   ]
  },
  {
   "cell_type": "code",
   "execution_count": 10,
   "id": "dfe5812c",
   "metadata": {},
   "outputs": [],
   "source": [
    "for i in range(len(lcquad)):\n",
    "    lcquad.loc[i, 'entity'] = lcquad.loc[i, 'entity'].split( )[0]"
   ]
  },
  {
   "cell_type": "code",
   "execution_count": 11,
   "id": "609a01fe",
   "metadata": {},
   "outputs": [],
   "source": [
    "for i in range(len(lcquad)):\n",
    "    lcquad.loc[i, 'relation'] = lcquad.loc[i, 'sparql'].split('wdt:')[-1].split(' ')[0]"
   ]
  },
  {
   "cell_type": "code",
   "execution_count": 12,
   "id": "81e437fb",
   "metadata": {},
   "outputs": [
    {
     "data": {
      "text/html": [
       "<div>\n",
       "<style scoped>\n",
       "    .dataframe tbody tr th:only-of-type {\n",
       "        vertical-align: middle;\n",
       "    }\n",
       "\n",
       "    .dataframe tbody tr th {\n",
       "        vertical-align: top;\n",
       "    }\n",
       "\n",
       "    .dataframe thead th {\n",
       "        text-align: right;\n",
       "    }\n",
       "</style>\n",
       "<table border=\"1\" class=\"dataframe\">\n",
       "  <thead>\n",
       "    <tr style=\"text-align: right;\">\n",
       "      <th></th>\n",
       "      <th>question</th>\n",
       "      <th>sparql</th>\n",
       "      <th>entity</th>\n",
       "      <th>relation</th>\n",
       "    </tr>\n",
       "  </thead>\n",
       "  <tbody>\n",
       "    <tr>\n",
       "      <th>0</th>\n",
       "      <td>On Lake Winnipeg what is the lakes on river?</td>\n",
       "      <td>select distinct ?answer where { ?answer wdt:P4...</td>\n",
       "      <td>Q3272</td>\n",
       "      <td>P469</td>\n",
       "    </tr>\n",
       "    <tr>\n",
       "      <th>1</th>\n",
       "      <td>Which is the PIM authority ID of Paul Erdős?</td>\n",
       "      <td>select distinct ?answer where { wd:Q173746 wdt...</td>\n",
       "      <td>Q173746</td>\n",
       "      <td>P3973</td>\n",
       "    </tr>\n",
       "    <tr>\n",
       "      <th>2</th>\n",
       "      <td>What is the MIA constituent ID for Johannes Gu...</td>\n",
       "      <td>select distinct ?answer where { wd:Q8958 wdt:P...</td>\n",
       "      <td>Q8958</td>\n",
       "      <td>P3603</td>\n",
       "    </tr>\n",
       "    <tr>\n",
       "      <th>3</th>\n",
       "      <td>What is in the category of Percy Bysshe Shelley?</td>\n",
       "      <td>select distinct ?answer where { wd:Q93343 wdt:...</td>\n",
       "      <td>Q93343</td>\n",
       "      <td>P5506</td>\n",
       "    </tr>\n",
       "    <tr>\n",
       "      <th>4</th>\n",
       "      <td>What is the TDKIV ID for the blog?</td>\n",
       "      <td>select distinct ?answer where { wd:Q30849 wdt:...</td>\n",
       "      <td>Q30849</td>\n",
       "      <td>P5398</td>\n",
       "    </tr>\n",
       "    <tr>\n",
       "      <th>...</th>\n",
       "      <td>...</td>\n",
       "      <td>...</td>\n",
       "      <td>...</td>\n",
       "      <td>...</td>\n",
       "    </tr>\n",
       "    <tr>\n",
       "      <th>95</th>\n",
       "      <td>Which is the Deutsche Synchronkartei film ID o...</td>\n",
       "      <td>select distinct ?answer where { wd:Q216006 wdt...</td>\n",
       "      <td>Q216006</td>\n",
       "      <td>P3844</td>\n",
       "    </tr>\n",
       "    <tr>\n",
       "      <th>96</th>\n",
       "      <td>What is language is spoken by the Gujarati peo...</td>\n",
       "      <td>select distinct ?answer where { ?answer wdt:P2...</td>\n",
       "      <td>Q5137</td>\n",
       "      <td>P2936</td>\n",
       "    </tr>\n",
       "    <tr>\n",
       "      <th>97</th>\n",
       "      <td>What is image of function for sine ?</td>\n",
       "      <td>select distinct ?answer where { wd:Q152415 wdt...</td>\n",
       "      <td>Q152415</td>\n",
       "      <td>P2396</td>\n",
       "    </tr>\n",
       "    <tr>\n",
       "      <th>98</th>\n",
       "      <td>Which is the diaspora of the African Americans?</td>\n",
       "      <td>select distinct ?answer where { wd:Q49085 wdt:...</td>\n",
       "      <td>Q49085</td>\n",
       "      <td>P3833</td>\n",
       "    </tr>\n",
       "    <tr>\n",
       "      <th>99</th>\n",
       "      <td>Which is the Basketball-Reference.com NBA coac...</td>\n",
       "      <td>select distinct ?answer where { wd:Q314185 wdt...</td>\n",
       "      <td>Q314185</td>\n",
       "      <td>P4718</td>\n",
       "    </tr>\n",
       "  </tbody>\n",
       "</table>\n",
       "<p>100 rows × 4 columns</p>\n",
       "</div>"
      ],
      "text/plain": [
       "                                             question  \\\n",
       "0        On Lake Winnipeg what is the lakes on river?   \n",
       "1        Which is the PIM authority ID of Paul Erdős?   \n",
       "2   What is the MIA constituent ID for Johannes Gu...   \n",
       "3    What is in the category of Percy Bysshe Shelley?   \n",
       "4                  What is the TDKIV ID for the blog?   \n",
       "..                                                ...   \n",
       "95  Which is the Deutsche Synchronkartei film ID o...   \n",
       "96  What is language is spoken by the Gujarati peo...   \n",
       "97               What is image of function for sine ?   \n",
       "98    Which is the diaspora of the African Americans?   \n",
       "99  Which is the Basketball-Reference.com NBA coac...   \n",
       "\n",
       "                                               sparql   entity relation  \n",
       "0   select distinct ?answer where { ?answer wdt:P4...    Q3272     P469  \n",
       "1   select distinct ?answer where { wd:Q173746 wdt...  Q173746    P3973  \n",
       "2   select distinct ?answer where { wd:Q8958 wdt:P...    Q8958    P3603  \n",
       "3   select distinct ?answer where { wd:Q93343 wdt:...   Q93343    P5506  \n",
       "4   select distinct ?answer where { wd:Q30849 wdt:...   Q30849    P5398  \n",
       "..                                                ...      ...      ...  \n",
       "95  select distinct ?answer where { wd:Q216006 wdt...  Q216006    P3844  \n",
       "96  select distinct ?answer where { ?answer wdt:P2...    Q5137    P2936  \n",
       "97  select distinct ?answer where { wd:Q152415 wdt...  Q152415    P2396  \n",
       "98  select distinct ?answer where { wd:Q49085 wdt:...   Q49085    P3833  \n",
       "99  select distinct ?answer where { wd:Q314185 wdt...  Q314185    P4718  \n",
       "\n",
       "[100 rows x 4 columns]"
      ]
     },
     "execution_count": 12,
     "metadata": {},
     "output_type": "execute_result"
    }
   ],
   "source": [
    "lcquad[:100]"
   ]
  },
  {
   "cell_type": "code",
   "execution_count": 106,
   "id": "20dc49be",
   "metadata": {},
   "outputs": [],
   "source": [
    "lcquad.to_csv('lcquad_simple.csv', index = False)"
   ]
  }
 ],
 "metadata": {
  "kernelspec": {
   "display_name": "Python 3 (ipykernel)",
   "language": "python",
   "name": "python3"
  },
  "language_info": {
   "codemirror_mode": {
    "name": "ipython",
    "version": 3
   },
   "file_extension": ".py",
   "mimetype": "text/x-python",
   "name": "python",
   "nbconvert_exporter": "python",
   "pygments_lexer": "ipython3",
   "version": "3.8.10"
  }
 },
 "nbformat": 4,
 "nbformat_minor": 5
}
